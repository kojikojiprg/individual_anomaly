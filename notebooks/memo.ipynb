{
 "cells": [
  {
   "cell_type": "code",
   "execution_count": 8,
   "metadata": {},
   "outputs": [],
   "source": [
    "import numpy as np"
   ]
  },
  {
   "cell_type": "code",
   "execution_count": 9,
   "metadata": {},
   "outputs": [],
   "source": [
    "kps = np.ones((300, 17, 3)).astype(np.float32)\n",
    "kps[:, 13:, 2] = 0.1"
   ]
  },
  {
   "cell_type": "code",
   "execution_count": 10,
   "metadata": {},
   "outputs": [
    {
     "data": {
      "text/plain": [
       "array([[1. , 1. , 1. ],\n",
       "       [1. , 1. , 1. ],\n",
       "       [1. , 1. , 1. ],\n",
       "       [1. , 1. , 1. ],\n",
       "       [1. , 1. , 1. ],\n",
       "       [1. , 1. , 1. ],\n",
       "       [1. , 1. , 1. ],\n",
       "       [1. , 1. , 1. ],\n",
       "       [1. , 1. , 1. ],\n",
       "       [1. , 1. , 1. ],\n",
       "       [1. , 1. , 1. ],\n",
       "       [1. , 1. , 1. ],\n",
       "       [1. , 1. , 1. ],\n",
       "       [1. , 1. , 0.1],\n",
       "       [1. , 1. , 0.1],\n",
       "       [1. , 1. , 0.1],\n",
       "       [1. , 1. , 0.1]], dtype=float32)"
      ]
     },
     "execution_count": 10,
     "metadata": {},
     "output_type": "execute_result"
    }
   ],
   "source": [
    "kps[0]"
   ]
  },
  {
   "cell_type": "code",
   "execution_count": 11,
   "metadata": {},
   "outputs": [],
   "source": [
    "def create_mask(kps):\n",
    "    mask = np.where(\n",
    "        kps[:, :, 2] < 0.2, -1e10, 0.0\n",
    "    )  # -inf to nan in softmax of attention module\n",
    "    seq_len, points = mask.shape\n",
    "    mask = np.repeat(mask, 2, axis=1).reshape(seq_len, points, 2)\n",
    "    return mask"
   ]
  },
  {
   "cell_type": "code",
   "execution_count": 12,
   "metadata": {},
   "outputs": [],
   "source": [
    "mask = create_mask(kps)"
   ]
  },
  {
   "cell_type": "code",
   "execution_count": 14,
   "metadata": {},
   "outputs": [
    {
     "data": {
      "text/plain": [
       "array([[ 0.e+00,  0.e+00],\n",
       "       [ 0.e+00,  0.e+00],\n",
       "       [ 0.e+00,  0.e+00],\n",
       "       [ 0.e+00,  0.e+00],\n",
       "       [ 0.e+00,  0.e+00],\n",
       "       [ 0.e+00,  0.e+00],\n",
       "       [ 0.e+00,  0.e+00],\n",
       "       [ 0.e+00,  0.e+00],\n",
       "       [ 0.e+00,  0.e+00],\n",
       "       [ 0.e+00,  0.e+00],\n",
       "       [ 0.e+00,  0.e+00],\n",
       "       [ 0.e+00,  0.e+00],\n",
       "       [ 0.e+00,  0.e+00],\n",
       "       [-1.e+10, -1.e+10],\n",
       "       [-1.e+10, -1.e+10],\n",
       "       [-1.e+10, -1.e+10],\n",
       "       [-1.e+10, -1.e+10]])"
      ]
     },
     "execution_count": 14,
     "metadata": {},
     "output_type": "execute_result"
    }
   ],
   "source": [
    "mask[-1]"
   ]
  },
  {
   "cell_type": "code",
   "execution_count": null,
   "metadata": {},
   "outputs": [],
   "source": []
  }
 ],
 "metadata": {
  "kernelspec": {
   "display_name": ".venv",
   "language": "python",
   "name": ".venv"
  },
  "language_info": {
   "codemirror_mode": {
    "name": "ipython",
    "version": 3
   },
   "file_extension": ".py",
   "mimetype": "text/x-python",
   "name": "python",
   "nbconvert_exporter": "python",
   "pygments_lexer": "ipython3",
   "version": "3.8.13"
  }
 },
 "nbformat": 4,
 "nbformat_minor": 4
}

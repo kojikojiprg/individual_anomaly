{
 "cells": [
  {
   "cell_type": "code",
   "execution_count": 1,
   "id": "f8107d1d-435c-439e-aa32-45a500cade45",
   "metadata": {},
   "outputs": [
    {
     "name": "stdout",
     "output_type": "stream",
     "text": [
      "/raid6/home/yokoyama/research\n"
     ]
    }
   ],
   "source": [
    "%cd /home/yokoyama/research\n",
    "from types import SimpleNamespace\n",
    "import sys\n",
    "import os\n",
    "from glob import glob\n",
    "\n",
    "import cv2\n",
    "import matplotlib.pyplot as plt\n",
    "import numpy as np\n",
    "import umap\n",
    "from sklearn.decomposition import PCA\n",
    "import torch\n",
    "import torch.nn as nn\n",
    "import torch.nn.functional as F\n",
    "from tqdm import tqdm\n",
    "\n",
    "sys.path.append(\".\")\n",
    "from modules.utils.video import Capture, Writer\n",
    "from modules.pose import PoseDataHandler"
   ]
  },
  {
   "cell_type": "code",
   "execution_count": 2,
   "id": "23efcc3f-7bba-4f42-9834-968691ac62cf",
   "metadata": {
    "tags": []
   },
   "outputs": [],
   "source": [
    "from submodules.i3d.pytorch_i3d import InceptionI3d\n",
    "from torchvision.ops import roi_align"
   ]
  },
  {
   "cell_type": "code",
   "execution_count": 3,
   "id": "78690118",
   "metadata": {},
   "outputs": [],
   "source": [
    "video_num = 1\n",
    "cap = Capture(f\"/raid6/home/yokoyama/datasets/dataset01/train/{video_num:02d}.mp4\")\n",
    "pose_data = PoseDataHandler.load(f\"data/dataset01/train/{video_num:02d}\", [\"bbox\"])\n",
    "flows_raw = np.load(\"data/dataset01/train/01/bin/flow.npy\")"
   ]
  },
  {
   "cell_type": "code",
   "execution_count": 4,
   "id": "44dea034",
   "metadata": {},
   "outputs": [
    {
     "data": {
      "text/plain": [
       "(5400, 940, 1280, 2)"
      ]
     },
     "execution_count": 4,
     "metadata": {},
     "output_type": "execute_result"
    }
   ],
   "source": [
    "flows_raw.shape"
   ]
  },
  {
   "cell_type": "code",
   "execution_count": 5,
   "id": "796888cd",
   "metadata": {},
   "outputs": [
    {
     "name": "stderr",
     "output_type": "stream",
     "text": [
      "  0%|                                                                      | 0/5400 [00:00<?, ?it/s]"
     ]
    },
    {
     "name": "stderr",
     "output_type": "stream",
     "text": [
      "100%|███████████████████████████████████████████████████████████| 5400/5400 [01:18<00:00, 68.52it/s]\n",
      "100%|██████████████████████████████████████████████████████████| 5400/5400 [00:23<00:00, 232.27it/s]\n"
     ]
    }
   ],
   "source": [
    "def load_frames(cap, resize_ratio):\n",
    "    frames = []\n",
    "    for i in tqdm(range(cap.frame_count), ncols=100):\n",
    "        frame = cap.read()[1]\n",
    "        if resize_ratio != 1.0:\n",
    "            frame = cv2.resize(frame, None, fx=resize_ratio, fy=resize_ratio)\n",
    "        frames.append(frame / 255.)\n",
    "\n",
    "    return frames\n",
    "\n",
    "def resize_flows(flows, resize_ratio):\n",
    "    if resize_ratio != 1.0:\n",
    "        flows_resized = []\n",
    "        for flow in tqdm(flows, ncols=100):\n",
    "            flows_resized.append(cv2.resize(flow, None, fx=resize_ratio, fy=resize_ratio))\n",
    "        return flows_resized\n",
    "    else:\n",
    "        return flows\n",
    "\n",
    "resize_ratio = 0.5\n",
    "frames_raw = load_frames(cap, resize_ratio)\n",
    "flows_raw = resize_flows(flows_raw, resize_ratio)"
   ]
  },
  {
   "cell_type": "code",
   "execution_count": 6,
   "id": "6487c665",
   "metadata": {},
   "outputs": [
    {
     "name": "stderr",
     "output_type": "stream",
     "text": [
      "100%|██████████| 32/32 [00:00<00:00, 183859.90it/s]\n"
     ]
    },
    {
     "name": "stdout",
     "output_type": "stream",
     "text": [
      "[1360, 1362, 1365, 1367, 1370, 1375, 1376, 1377, 1380, 1381, 1383, 1384, 1388, 1389, 1392, 1393, 1394, 1396, 1397, 1399, 1400, 1403, 1406, 1407, 1411, 1412, 1413, 1418, 1419, 1421, 1422, 1423]\n"
     ]
    }
   ],
   "source": [
    "def create_batch(frames, flows, start_frame_nums, length):\n",
    "    batches_frame = []\n",
    "    batches_flow = []\n",
    "    for start in tqdm(start_frame_nums):\n",
    "        batches_frame.append(frames[start:start + length])\n",
    "        batches_flow.append(flows[start:start + length])\n",
    "    return np.array(batches_frame, dtype=np.float32), np.array(batches_flow, dtype=np.float32)\n",
    "\n",
    "\n",
    "batch_num = 32\n",
    "frame_length = 30\n",
    "start_frame_num = 1360\n",
    "# start_frame_nums = sorted(np.random.choice(cap.frame_count, batch_num, replace=True) + start_frame_num)\n",
    "start_frame_nums = sorted(np.random.choice(64, batch_num, replace=False) + start_frame_num)\n",
    "frames, flows = create_batch(frames_raw, flows_raw, start_frame_nums, frame_length)\n",
    "print(start_frame_nums)"
   ]
  },
  {
   "cell_type": "code",
   "execution_count": 7,
   "id": "035f491f",
   "metadata": {},
   "outputs": [
    {
     "data": {
      "text/plain": [
       "torch.Size([32, 3, 30, 470, 640])"
      ]
     },
     "execution_count": 7,
     "metadata": {},
     "output_type": "execute_result"
    }
   ],
   "source": [
    "frames = torch.Tensor(frames)\n",
    "frames = torch.permute(frames, (0, 4, 1, 2, 3))\n",
    "\n",
    "flows = torch.Tensor(flows)\n",
    "flows = torch.permute(flows, (0, 4, 1, 2, 3))\n",
    "\n",
    "frames.shape"
   ]
  },
  {
   "cell_type": "code",
   "execution_count": 8,
   "id": "709cafd9",
   "metadata": {},
   "outputs": [
    {
     "name": "stdout",
     "output_type": "stream",
     "text": [
      "done\n"
     ]
    }
   ],
   "source": [
    "# model_path_frame = \"submodules/i3d/models/rgb_imagenet.pt\"\n",
    "# model_path_frame = \"submodules/i3d/models/rgb_charades.pt\"\n",
    "i3d_frame = InceptionI3d(in_channels=3, final_endpoint=\"Mixed_3c\")\n",
    "i3d_frame.build()\n",
    "# i3d.cuda(1)\n",
    "# i3d_frame.replace_logits(157)\n",
    "# i3d_frame.load_state_dict(torch.load(model_path_frame))\n",
    "\n",
    "# model_path_flow = \"submodules/i3d/models/flow_imagenet.pt\"\n",
    "# model_path_flow = \"submodules/i3d/models/flow_charades.pt\"\n",
    "i3d_flow = InceptionI3d(in_channels=2, final_endpoint=\"Mixed_3c\")\n",
    "i3d_flow.build()\n",
    "# i3d.cuda(1)\n",
    "# i3d_flow.replace_logits(157)\n",
    "# i3d_flow.load_state_dict(torch.load(model_path_flow))\n",
    "\n",
    "# i3d = InceptionI3d(in_channels=in_channels, final_endpoint=\"Mixed_3b\")\n",
    "# i3d.build()\n",
    "# i3d.cuda(1)\n",
    "print(\"done\")"
   ]
  },
  {
   "cell_type": "code",
   "execution_count": 9,
   "id": "790b4d9b",
   "metadata": {},
   "outputs": [
    {
     "data": {
      "text/plain": [
       "torch.Size([32, 480, 15, 59, 80])"
      ]
     },
     "execution_count": 9,
     "metadata": {},
     "output_type": "execute_result"
    }
   ],
   "source": [
    "# feature = i3d.extract_features(tensor)\n",
    "x = frames\n",
    "for end_point in i3d_frame.VALID_ENDPOINTS:\n",
    "    if end_point in i3d_frame.end_points:\n",
    "        x = i3d_frame._modules[end_point](x)\n",
    "    # if end_point == \"Mixed_3c\":\n",
    "    #     break\n",
    "# x = i3d_frame.avg_pool(x)\n",
    "\n",
    "feature_frame = x.cpu()\n",
    "feature_frame.shape"
   ]
  },
  {
   "cell_type": "code",
   "execution_count": 10,
   "id": "29a8b6b1",
   "metadata": {},
   "outputs": [
    {
     "data": {
      "text/plain": [
       "torch.Size([32, 480, 15, 59, 80])"
      ]
     },
     "execution_count": 10,
     "metadata": {},
     "output_type": "execute_result"
    }
   ],
   "source": [
    "# feature = i3d.extract_features(tensor)\n",
    "x = flows\n",
    "for end_point in i3d_flow.VALID_ENDPOINTS:\n",
    "    if end_point in i3d_flow.end_points:\n",
    "        x = i3d_flow._modules[end_point](x)\n",
    "    # if end_point == \"Mixed_3c\":\n",
    "    #     break\n",
    "# x = i3d_flow.avg_pool(x)\n",
    "\n",
    "feature_flow = x.cpu()\n",
    "feature_flow.shape"
   ]
  },
  {
   "cell_type": "code",
   "execution_count": 11,
   "id": "b1b08562",
   "metadata": {},
   "outputs": [
    {
     "data": {
      "text/plain": [
       "torch.Size([32, 480, 15, 59, 80])"
      ]
     },
     "execution_count": 11,
     "metadata": {},
     "output_type": "execute_result"
    }
   ],
   "source": [
    "# feature = feature_frame + feature_flow\n",
    "# feature = feature_frame\n",
    "feature = feature_flow\n",
    "feature.shape"
   ]
  },
  {
   "cell_type": "code",
   "execution_count": 12,
   "id": "eb5cb891",
   "metadata": {},
   "outputs": [
    {
     "data": {
      "text/plain": [
       "0.125"
      ]
     },
     "execution_count": 12,
     "metadata": {},
     "output_type": "execute_result"
    }
   ],
   "source": [
    "h, w = frames.shape[3:5]\n",
    "fy, fx = feature.shape[3:5]\n",
    "fx / w"
   ]
  },
  {
   "cell_type": "code",
   "execution_count": 13,
   "id": "5822672b",
   "metadata": {},
   "outputs": [
    {
     "data": {
      "text/plain": [
       "(192, 480, 5, 5)"
      ]
     },
     "execution_count": 13,
     "metadata": {},
     "output_type": "execute_result"
    }
   ],
   "source": [
    "bboxs_all = []\n",
    "for start_frame_num in start_frame_nums:\n",
    "    pose_data_frame = [\n",
    "        data for data in pose_data\n",
    "        if data[\"frame\"] == start_frame_num + frame_length // 2 + 1\n",
    "    ]\n",
    "\n",
    "    bboxs = [np.array(data[\"bbox\"]).reshape(2, 2) * resize_ratio for data in pose_data_frame]\n",
    "\n",
    "    bboxs = torch.Tensor(np.array(bboxs))\n",
    "    bboxs *= torch.Tensor((fx / w, fy / h))\n",
    "\n",
    "    bboxs_all.append(bboxs.reshape(-1, 4))\n",
    "\n",
    "output_size = 5\n",
    "feature_aligned = roi_align(feature, bboxs_all, output_size, spatial_scale=fx / w, aligned=True)\n",
    "feature_aligned = feature_aligned.detach().numpy()\n",
    "\n",
    "feature_aligned.shape"
   ]
  },
  {
   "cell_type": "code",
   "execution_count": 14,
   "id": "b7644d00",
   "metadata": {},
   "outputs": [
    {
     "data": {
      "text/plain": [
       "array([[0.00223091, 0.00272693, 0.00410345, 0.00547997, 0.00685649],\n",
       "       [0.00402414, 0.00491887, 0.00740185, 0.00988483, 0.01236781],\n",
       "       [0.01968445, 0.02056858, 0.02268959, 0.0248106 , 0.02693162],\n",
       "       [0.04899682, 0.04946739, 0.04978077, 0.05009415, 0.05040754],\n",
       "       [0.07830919, 0.07836621, 0.07687195, 0.07537771, 0.07388346]],\n",
       "      dtype=float32)"
      ]
     },
     "execution_count": 14,
     "metadata": {},
     "output_type": "execute_result"
    }
   ],
   "source": [
    "feature_aligned[0, 0]"
   ]
  },
  {
   "cell_type": "code",
   "execution_count": 15,
   "id": "ad6ff924",
   "metadata": {},
   "outputs": [],
   "source": [
    "pids_all_batch = [\n",
    "    [\n",
    "        data[\"id\"] for data in pose_data\n",
    "        if data[\"frame\"] == start_frame_num + frame_length // 2 + 1\n",
    "    ]\n",
    "    for start_frame_num in start_frame_nums\n",
    "]"
   ]
  },
  {
   "cell_type": "code",
   "execution_count": 16,
   "id": "6dfc867e",
   "metadata": {},
   "outputs": [],
   "source": [
    "ch = feature_aligned.shape[1]\n",
    "n_components = 2\n",
    "features_aligned_all = feature_aligned.reshape(-1, ch * output_size**2)\n",
    "pca = PCA(n_components=n_components)\n",
    "pca.fit(features_aligned_all)\n",
    "\n",
    "embedding_dict = {}\n",
    "tail_idx = 0\n",
    "for pid_batch, start_frame_num in zip(pids_all_batch, start_frame_nums):\n",
    "    data_num = len(pid_batch)\n",
    "    # pca = PCA(n_components=2)\n",
    "    # pca.fit(feature_aligned[tail_idx: tail_idx + data_num].reshape(-1, 256 * 2 * 2))\n",
    "    for i, pid in enumerate(pid_batch):\n",
    "        features = feature_aligned[i + tail_idx]\n",
    "        embedding = pca.transform(features.reshape(-1, ch * output_size**2))\n",
    "\n",
    "        if pid not in embedding_dict:\n",
    "            embedding_dict[pid] = np.empty((0, n_components + 1))\n",
    "        embedding = np.append(embedding, start_frame_num)\n",
    "        embedding_dict[pid] = np.append(embedding_dict[pid], [embedding], axis=0)\n",
    "\n",
    "    tail_idx += data_num"
   ]
  },
  {
   "cell_type": "code",
   "execution_count": 17,
   "id": "a19d5525",
   "metadata": {},
   "outputs": [
    {
     "data": {
      "image/png": "[encoded data removed]",
      "text/plain": [
       "<Figure size 500x500 with 1 Axes>"
      ]
     },
     "metadata": {},
     "output_type": "display_data"
    }
   ],
   "source": [
    "import matplotlib.cm as cm\n",
    "plt.figure(figsize=(5, 5))\n",
    "for i, (pid, embedding) in enumerate(embedding_dict.items()):\n",
    "    # if i not in range(15, 20):\n",
    "    #     continue\n",
    "    plt.scatter(\n",
    "        embedding[:, 0], embedding[:, 1], s=7, label=pid\n",
    "    )\n",
    "    # if pid == 10:\n",
    "    #     for j in range(len(embedding)):\n",
    "    #         plt.text(embedding[j, 0], embedding[j, 1], pid)\n",
    "    # for j in range(len(embedding)):\n",
    "    #     if embedding[j, n_components] in start_frame_nums[::batch_num - 1]:\n",
    "    #         plt.text(embedding[j, 0], embedding[j, 1], int(embedding[j, 2]))\n",
    "\n",
    "# plt.colorbar(boundaries=np.arange(11)-0.5).set_ticks(pids)\n",
    "# plt.xlim((-10, 30))\n",
    "# plt.ylim((-20, 20))\n",
    "plt.legend(bbox_to_anchor=(1.01, 1), loc='upper left', borderaxespad=0)\n",
    "plt.show()"
   ]
  },
  {
   "cell_type": "code",
   "execution_count": null,
   "id": "1baa6b14",
   "metadata": {},
   "outputs": [],
   "source": []
  },
  {
   "cell_type": "code",
   "execution_count": 18,
   "id": "632c49a3",
   "metadata": {},
   "outputs": [],
   "source": [
    "features_aligned_all = feature_aligned.reshape(-1, ch * output_size**2)\n",
    "um = umap.UMAP(n_neighbors=6, n_components=n_components, random_state=64)\n",
    "um.fit(features_aligned_all)\n",
    "# pca = PCA(n_components=2)\n",
    "# pca.fit(features_aligned_all)\n",
    "\n",
    "embedding_dict = {}\n",
    "tail_idx = 0\n",
    "for pid_batch, start_frame_num in zip(pids_all_batch, start_frame_nums):\n",
    "    data_num = len(pid_batch)\n",
    "    # pca = PCA(n_components=2)\n",
    "    # pca.fit(feature_aligned[tail_idx: tail_idx + data_num].reshape(-1, 256 * 2 * 2))\n",
    "    for i, pid in enumerate(pid_batch):\n",
    "        features = feature_aligned[i + tail_idx]\n",
    "        embedding = um.transform(features.reshape(-1, ch * output_size**2))\n",
    "        # embedding = pca.transform(features.reshape(-1, 256 * output_size**2))\n",
    "\n",
    "        if pid not in embedding_dict:\n",
    "            embedding_dict[pid] = np.empty((0, n_components + 1))\n",
    "        embedding = np.append(embedding, start_frame_num)\n",
    "        embedding_dict[pid] = np.append(embedding_dict[pid], [embedding], axis=0)\n",
    "\n",
    "    tail_idx += data_num"
   ]
  },
  {
   "cell_type": "code",
   "execution_count": 19,
   "id": "446e432b",
   "metadata": {},
   "outputs": [
    {
     "name": "stdout",
     "output_type": "stream",
     "text": [
      "[1360, 1362, 1365, 1367, 1370, 1375, 1376, 1377, 1380, 1381, 1383, 1384, 1388, 1389, 1392, 1393, 1394, 1396, 1397, 1399, 1400, 1403, 1406, 1407, 1411, 1412, 1413, 1418, 1419, 1421, 1422, 1423]\n"
     ]
    }
   ],
   "source": [
    "print(start_frame_nums)"
   ]
  },
  {
   "cell_type": "code",
   "execution_count": 20,
   "id": "fd1ef2f1",
   "metadata": {},
   "outputs": [
    {
     "data": {
      "image/png": "[encoded data removed]",
      "text/plain": [
       "<Figure size 500x500 with 1 Axes>"
      ]
     },
     "metadata": {},
     "output_type": "display_data"
    }
   ],
   "source": [
    "import matplotlib.cm as cm\n",
    "plt.figure(figsize=(5, 5))\n",
    "for i, (pid, embedding) in enumerate(embedding_dict.items()):\n",
    "    # if i not in range(15, 20):\n",
    "    #     continue\n",
    "    plt.scatter(\n",
    "        embedding[:, 0], embedding[:, 1], s=7, label=pid\n",
    "    )\n",
    "    # for j in range(len(embedding)):\n",
    "    #     if embedding[j, 2] in start_frame_nums[::batch_num - 1]:\n",
    "    #         plt.text(embedding[j, 0], embedding[j, 1], int(embedding[j, 2]))\n",
    "\n",
    "# plt.colorbar(boundaries=np.arange(11)-0.5).set_ticks(pids)\n",
    "# plt.xlim((-20, 10))\n",
    "# plt.ylim((-10, 10))\n",
    "plt.legend(bbox_to_anchor=(1.01, 1), loc='upper left', borderaxespad=0)\n",
    "plt.show()"
   ]
  },
  {
   "cell_type": "code",
   "execution_count": null,
   "id": "e1d1f267",
   "metadata": {},
   "outputs": [],
   "source": []
  }
 ],
 "metadata": {
  "kernelspec": {
   "display_name": "Python 3 (ipykernel)",
   "language": "python",
   "name": "python3"
  },
  "language_info": {
   "codemirror_mode": {
    "name": "ipython",
    "version": 3
   },
   "file_extension": ".py",
   "mimetype": "text/x-python",
   "name": "python",
   "nbconvert_exporter": "python",
   "pygments_lexer": "ipython3",
   "version": "3.8.13"
  }
 },
 "nbformat": 4,
 "nbformat_minor": 5
}

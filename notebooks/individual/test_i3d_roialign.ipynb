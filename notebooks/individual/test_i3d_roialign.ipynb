{
 "cells": [
  {
   "cell_type": "code",
   "execution_count": 1,
   "id": "f8107d1d-435c-439e-aa32-45a500cade45",
   "metadata": {},
   "outputs": [
    {
     "name": "stdout",
     "output_type": "stream",
     "text": [
      "/raid6/home/yokoyama/research\n"
     ]
    }
   ],
   "source": [
    "%cd /home/yokoyama/research\n",
    "from types import SimpleNamespace\n",
    "import sys\n",
    "import os\n",
    "from glob import glob\n",
    "\n",
    "import cv2\n",
    "import matplotlib.pyplot as plt\n",
    "import numpy as np\n",
    "import seaborn as sns\n",
    "from sklearn.manifold import TSNE\n",
    "import umap\n",
    "from sklearn.decomposition import PCA\n",
    "import torch\n",
    "import torch.nn as nn\n",
    "import torch.nn.functional as F\n",
    "from tqdm import tqdm\n",
    "\n",
    "sys.path.append(\".\")\n",
    "from modules.utils.video import Capture, Writer\n",
    "from modules.pose import PoseDataHandler"
   ]
  },
  {
   "cell_type": "code",
   "execution_count": 2,
   "id": "23efcc3f-7bba-4f42-9834-968691ac62cf",
   "metadata": {
    "tags": []
   },
   "outputs": [],
   "source": [
    "from submodules.i3d.pytorch_i3d import InceptionI3d\n",
    "from torchvision.ops import roi_align"
   ]
  },
  {
   "cell_type": "code",
   "execution_count": 3,
   "id": "78690118",
   "metadata": {},
   "outputs": [],
   "source": [
    "video_num = 1\n",
    "cap = Capture(f\"/raid6/home/yokoyama/datasets/dataset01/train/{video_num:02d}.mp4\")\n",
    "pose_data = PoseDataHandler.load(f\"data/dataset01/train/{video_num:02d}\", [\"bbox\"])"
   ]
  },
  {
   "cell_type": "code",
   "execution_count": 4,
   "id": "796888cd",
   "metadata": {},
   "outputs": [
    {
     "name": "stderr",
     "output_type": "stream",
     "text": [
      "100%|██████████| 5400/5400 [04:00<00:00, 22.49it/s]\n"
     ]
    }
   ],
   "source": [
    "def load_frames_flows(cap, resize_ratio):\n",
    "    frames = []\n",
    "    w, h = cap.size\n",
    "    flows = [np.zeros((int(h * resize_ratio), int(w * resize_ratio), 2))]\n",
    "    pre_gray = None\n",
    "    for frame_num in tqdm(range(cap.frame_count)):\n",
    "        frame_num += 1\n",
    "\n",
    "        frame = cap.read()[1]\n",
    "        frame = cv2.resize(frame, None, fx=resize_ratio, fy=resize_ratio)\n",
    "        frames.append(frame / 255.)\n",
    "        gray = cv2.cvtColor(frame, cv2.COLOR_RGB2GRAY)\n",
    "        if frame_num == 1:\n",
    "            pre_gray = gray\n",
    "            continue\n",
    "\n",
    "        flow = cv2.calcOpticalFlowFarneback(pre_gray, gray, None, 0.5, 3, 15, 3, 5, 1.2, 0)\n",
    "        flows.append(flow)\n",
    "\n",
    "        pre_gray = gray\n",
    "\n",
    "    frames = np.array(frames)\n",
    "    flows = np.array(flows)\n",
    "\n",
    "    return frames, flows\n",
    "\n",
    "resize_ratio = 0.25\n",
    "frames_raw, flows_raw = load_frames_flows(cap, resize_ratio)"
   ]
  },
  {
   "cell_type": "code",
   "execution_count": 5,
   "id": "6487c665",
   "metadata": {},
   "outputs": [
    {
     "name": "stderr",
     "output_type": "stream",
     "text": [
      "100%|██████████| 64/64 [00:00<00:00, 235676.43it/s]\n"
     ]
    },
    {
     "name": "stdout",
     "output_type": "stream",
     "text": [
      "[1360, 1361, 1362, 1363, 1364, 1365, 1366, 1367, 1368, 1369, 1370, 1371, 1372, 1373, 1374, 1375, 1376, 1377, 1378, 1379, 1380, 1381, 1382, 1383, 1384, 1385, 1386, 1387, 1388, 1389, 1390, 1391, 1392, 1393, 1394, 1395, 1396, 1397, 1398, 1399, 1400, 1401, 1402, 1403, 1404, 1405, 1406, 1407, 1408, 1409, 1410, 1411, 1412, 1413, 1414, 1415, 1416, 1417, 1418, 1419, 1420, 1421, 1422, 1423]\n"
     ]
    }
   ],
   "source": [
    "def create_batch(frames, flows, start_frame_nums, length):\n",
    "    batches_frame = []\n",
    "    batches_flow = []\n",
    "    for start in tqdm(start_frame_nums):\n",
    "        batches_frame.append(frames[start:start + length])\n",
    "        batches_flow.append(flows[start:start + length])\n",
    "    return np.array(batches_frame, dtype=np.float32), np.array(batches_flow, dtype=np.float32)\n",
    "\n",
    "\n",
    "batch_num = 64\n",
    "frame_length = 30\n",
    "start_frame_num = 1360\n",
    "# start_frame_nums = sorted(np.random.choice(cap.frame_count, batch_num, replace=True) + start_frame_num)\n",
    "start_frame_nums = sorted(np.random.choice(64, batch_num, replace=False) + start_frame_num)\n",
    "frames, flows = create_batch(frames_raw, flows_raw, start_frame_nums, frame_length)\n",
    "print(start_frame_nums)"
   ]
  },
  {
   "cell_type": "code",
   "execution_count": 6,
   "id": "035f491f",
   "metadata": {},
   "outputs": [
    {
     "data": {
      "text/plain": [
       "torch.Size([64, 3, 30, 235, 320])"
      ]
     },
     "execution_count": 6,
     "metadata": {},
     "output_type": "execute_result"
    }
   ],
   "source": [
    "frames = torch.Tensor(frames)\n",
    "frames = torch.permute(frames, (0, 4, 1, 2, 3))\n",
    "\n",
    "flows = torch.Tensor(flows)\n",
    "flows = torch.permute(flows, (0, 4, 1, 2, 3))\n",
    "\n",
    "frames.shape"
   ]
  },
  {
   "cell_type": "code",
   "execution_count": 7,
   "id": "709cafd9",
   "metadata": {},
   "outputs": [
    {
     "name": "stdout",
     "output_type": "stream",
     "text": [
      "done\n"
     ]
    }
   ],
   "source": [
    "model_path_frame = \"submodules/i3d/models/rgb_imagenet.pt\"\n",
    "# model_path_frame = \"submodules/i3d/models/rgb_charades.pt\"\n",
    "i3d_frame = InceptionI3d(in_channels=3)\n",
    "# i3d.cuda(1)\n",
    "# i3d_frame.replace_logits(157)\n",
    "# i3d_frame.load_state_dict(torch.load(model_path_frame))\n",
    "\n",
    "model_path_flow = \"submodules/i3d/models/flow_imagenet.pt\"\n",
    "# model_path_flow = \"submodules/i3d/models/flow_charades.pt\"\n",
    "i3d_flow = InceptionI3d(in_channels=2)\n",
    "# i3d.cuda(1)\n",
    "# i3d_flow.replace_logits(157)\n",
    "# i3d_flow.load_state_dict(torch.load(model_path_flow))\n",
    "\n",
    "# i3d = InceptionI3d(in_channels=in_channels, final_endpoint=\"Mixed_3b\")\n",
    "# i3d.build()\n",
    "# i3d.cuda(1)\n",
    "print(\"done\")"
   ]
  },
  {
   "cell_type": "code",
   "execution_count": 8,
   "id": "790b4d9b",
   "metadata": {},
   "outputs": [
    {
     "data": {
      "text/plain": [
       "torch.Size([64, 256, 15, 30, 40])"
      ]
     },
     "execution_count": 8,
     "metadata": {},
     "output_type": "execute_result"
    }
   ],
   "source": [
    "# feature = i3d.extract_features(tensor)\n",
    "x = frames\n",
    "for end_point in i3d_frame.VALID_ENDPOINTS:\n",
    "    if end_point in i3d_frame.end_points:\n",
    "        x = i3d_frame._modules[end_point](x)\n",
    "    if end_point == \"Mixed_3b\":\n",
    "        # x = i3d_frame.avg_pool(x)\n",
    "        break\n",
    "feature_frame = x.cpu()\n",
    "feature_frame.shape"
   ]
  },
  {
   "cell_type": "code",
   "execution_count": 9,
   "id": "29a8b6b1",
   "metadata": {},
   "outputs": [
    {
     "data": {
      "text/plain": [
       "torch.Size([64, 256, 15, 30, 40])"
      ]
     },
     "execution_count": 9,
     "metadata": {},
     "output_type": "execute_result"
    }
   ],
   "source": [
    "# feature = i3d.extract_features(tensor)\n",
    "x = flows\n",
    "for end_point in i3d_flow.VALID_ENDPOINTS:\n",
    "    if end_point in i3d_flow.end_points:\n",
    "        x = i3d_flow._modules[end_point](x)\n",
    "    if end_point == \"Mixed_3b\":\n",
    "        # x = i3d_flow.avg_pool(x)\n",
    "        break\n",
    "feature_flow = x.cpu()\n",
    "feature_flow.shape"
   ]
  },
  {
   "cell_type": "code",
   "execution_count": 10,
   "id": "b1b08562",
   "metadata": {},
   "outputs": [
    {
     "data": {
      "text/plain": [
       "torch.Size([64, 256, 15, 30, 40])"
      ]
     },
     "execution_count": 10,
     "metadata": {},
     "output_type": "execute_result"
    }
   ],
   "source": [
    "feature = feature_frame + feature_flow\n",
    "feature.shape"
   ]
  },
  {
   "cell_type": "code",
   "execution_count": 11,
   "id": "eb5cb891",
   "metadata": {},
   "outputs": [
    {
     "data": {
      "text/plain": [
       "0.125"
      ]
     },
     "execution_count": 11,
     "metadata": {},
     "output_type": "execute_result"
    }
   ],
   "source": [
    "h, w = frames.shape[3:5]\n",
    "fy, fx = feature.shape[3:5]\n",
    "fx / w"
   ]
  },
  {
   "cell_type": "code",
   "execution_count": 12,
   "id": "5822672b",
   "metadata": {},
   "outputs": [
    {
     "data": {
      "text/plain": [
       "(383, 256, 3, 3)"
      ]
     },
     "execution_count": 12,
     "metadata": {},
     "output_type": "execute_result"
    }
   ],
   "source": [
    "bboxs_all = []\n",
    "for start_frame_num in start_frame_nums:\n",
    "    pose_data_frame = [\n",
    "        data for data in pose_data\n",
    "        if data[\"frame\"] == start_frame_num + frame_length // 2 + 1\n",
    "    ]\n",
    "\n",
    "    bboxs = [np.array(data[\"bbox\"]).reshape(2, 2) * resize_ratio for data in pose_data_frame]\n",
    "\n",
    "    bboxs = torch.Tensor(np.array(bboxs))\n",
    "    # bboxs /= torch.Tensor((w, h))\n",
    "    # bboxs *= torch.Tensor((fx, fy))\n",
    "\n",
    "    bboxs_all.append(bboxs.reshape(-1, 4))\n",
    "\n",
    "output_size = 3\n",
    "feature_aligned = roi_align(feature, bboxs_all, output_size, spatial_scale=fx / w, aligned=True)\n",
    "feature_aligned = feature_aligned.detach().numpy()\n",
    "\n",
    "feature_aligned.shape"
   ]
  },
  {
   "cell_type": "code",
   "execution_count": 13,
   "id": "b7644d00",
   "metadata": {},
   "outputs": [
    {
     "data": {
      "text/plain": [
       "array([[0.60274416, 0.8257575 , 0.878308  ],\n",
       "       [0.8459273 , 0.689965  , 0.56109643],\n",
       "       [0.6433274 , 0.7318647 , 0.6328359 ]], dtype=float32)"
      ]
     },
     "execution_count": 13,
     "metadata": {},
     "output_type": "execute_result"
    }
   ],
   "source": [
    "feature_aligned[0, 0]"
   ]
  },
  {
   "cell_type": "code",
   "execution_count": 14,
   "id": "ad6ff924",
   "metadata": {},
   "outputs": [],
   "source": [
    "pids_all_batch = [\n",
    "    [\n",
    "        data[\"id\"] for data in pose_data\n",
    "        if data[\"frame\"] == start_frame_num + frame_length // 2 + 1\n",
    "    ]\n",
    "    for start_frame_num in start_frame_nums\n",
    "]"
   ]
  },
  {
   "cell_type": "code",
   "execution_count": 15,
   "id": "6dfc867e",
   "metadata": {},
   "outputs": [],
   "source": [
    "n_components = 2\n",
    "features_aligned_all = feature_aligned.reshape(-1, 256 * output_size**2)\n",
    "pca = PCA(n_components=n_components)\n",
    "pca.fit(features_aligned_all)\n",
    "\n",
    "embedding_dict = {}\n",
    "tail_idx = 0\n",
    "for pid_batch, start_frame_num in zip(pids_all_batch, start_frame_nums):\n",
    "    data_num = len(pid_batch)\n",
    "    # pca = PCA(n_components=2)\n",
    "    # pca.fit(feature_aligned[tail_idx: tail_idx + data_num].reshape(-1, 256 * 2 * 2))\n",
    "    for i, pid in enumerate(pid_batch):\n",
    "        features = feature_aligned[i + tail_idx]\n",
    "        embedding = pca.transform(features.reshape(-1, 256 * output_size**2))\n",
    "\n",
    "        if pid not in embedding_dict:\n",
    "            embedding_dict[pid] = np.empty((0, n_components + 1))\n",
    "        embedding = np.append(embedding, start_frame_num)\n",
    "        embedding_dict[pid] = np.append(embedding_dict[pid], [embedding], axis=0)\n",
    "\n",
    "    tail_idx += data_num"
   ]
  },
  {
   "cell_type": "code",
   "execution_count": 16,
   "id": "a19d5525",
   "metadata": {},
   "outputs": [
    {
     "data": {
      "image/png": "[encoded data removed]",
      "text/plain": [
       "<Figure size 500x500 with 1 Axes>"
      ]
     },
     "metadata": {},
     "output_type": "display_data"
    }
   ],
   "source": [
    "import matplotlib.cm as cm\n",
    "plt.figure(figsize=(5, 5))\n",
    "for i, (pid, embedding) in enumerate(embedding_dict.items()):\n",
    "    # if i not in range(15, 20):\n",
    "    #     continue\n",
    "    plt.scatter(\n",
    "        embedding[:, 0], embedding[:, 1], s=7, label=pid\n",
    "    )\n",
    "    # for j in range(len(embedding)):\n",
    "    #     if embedding[j, n_components] in start_frame_nums[::batch_num - 1]:\n",
    "    #         plt.text(embedding[j, 0], embedding[j, 1], int(embedding[j, 2]))\n",
    "\n",
    "# plt.colorbar(boundaries=np.arange(11)-0.5).set_ticks(pids)\n",
    "# plt.xlim((-10, 30))\n",
    "# plt.ylim((-20, 20))\n",
    "plt.legend(bbox_to_anchor=(1.01, 1), loc='upper left', borderaxespad=0)\n",
    "plt.show()"
   ]
  },
  {
   "cell_type": "code",
   "execution_count": null,
   "id": "1baa6b14",
   "metadata": {},
   "outputs": [],
   "source": []
  },
  {
   "cell_type": "code",
   "execution_count": 17,
   "id": "632c49a3",
   "metadata": {},
   "outputs": [],
   "source": [
    "features_aligned_all = feature_aligned.reshape(-1, 256 * output_size**2)\n",
    "um = umap.UMAP(n_neighbors=3, n_components=n_components, random_state=64)\n",
    "um.fit(features_aligned_all)\n",
    "# pca = PCA(n_components=2)\n",
    "# pca.fit(features_aligned_all)\n",
    "\n",
    "embedding_dict = {}\n",
    "tail_idx = 0\n",
    "for pid_batch, start_frame_num in zip(pids_all_batch, start_frame_nums):\n",
    "    data_num = len(pid_batch)\n",
    "    # pca = PCA(n_components=2)\n",
    "    # pca.fit(feature_aligned[tail_idx: tail_idx + data_num].reshape(-1, 256 * 2 * 2))\n",
    "    for i, pid in enumerate(pid_batch):\n",
    "        features = feature_aligned[i + tail_idx]\n",
    "        embedding = um.transform(features.reshape(-1, 256 * output_size**2))\n",
    "        # embedding = pca.transform(features.reshape(-1, 256 * output_size**2))\n",
    "\n",
    "        if pid not in embedding_dict:\n",
    "            embedding_dict[pid] = np.empty((0, n_components + 1))\n",
    "        embedding = np.append(embedding, start_frame_num)\n",
    "        embedding_dict[pid] = np.append(embedding_dict[pid], [embedding], axis=0)\n",
    "\n",
    "    tail_idx += data_num"
   ]
  },
  {
   "cell_type": "code",
   "execution_count": 18,
   "id": "446e432b",
   "metadata": {},
   "outputs": [
    {
     "name": "stdout",
     "output_type": "stream",
     "text": [
      "[1360, 1361, 1362, 1363, 1364, 1365, 1366, 1367, 1368, 1369, 1370, 1371, 1372, 1373, 1374, 1375, 1376, 1377, 1378, 1379, 1380, 1381, 1382, 1383, 1384, 1385, 1386, 1387, 1388, 1389, 1390, 1391, 1392, 1393, 1394, 1395, 1396, 1397, 1398, 1399, 1400, 1401, 1402, 1403, 1404, 1405, 1406, 1407, 1408, 1409, 1410, 1411, 1412, 1413, 1414, 1415, 1416, 1417, 1418, 1419, 1420, 1421, 1422, 1423]\n"
     ]
    }
   ],
   "source": [
    "print(start_frame_nums)"
   ]
  },
  {
   "cell_type": "code",
   "execution_count": 19,
   "id": "fd1ef2f1",
   "metadata": {},
   "outputs": [
    {
     "data": {
      "image/png": "[encoded data removed]",
      "text/plain": [
       "<Figure size 500x500 with 1 Axes>"
      ]
     },
     "metadata": {},
     "output_type": "display_data"
    }
   ],
   "source": [
    "import matplotlib.cm as cm\n",
    "plt.figure(figsize=(5, 5))\n",
    "for i, (pid, embedding) in enumerate(embedding_dict.items()):\n",
    "    # if i not in range(15, 20):\n",
    "    #     continue\n",
    "    plt.scatter(\n",
    "        embedding[:, 0], embedding[:, 1], s=7, label=pid\n",
    "    )\n",
    "    # for j in range(len(embedding)):\n",
    "    #     if embedding[j, 2] in start_frame_nums[::batch_num - 1]:\n",
    "    #         plt.text(embedding[j, 0], embedding[j, 1], int(embedding[j, 2]))\n",
    "\n",
    "# plt.colorbar(boundaries=np.arange(11)-0.5).set_ticks(pids)\n",
    "# plt.xlim((-20, 10))\n",
    "# plt.ylim((-10, 10))\n",
    "plt.legend(bbox_to_anchor=(1.01, 1), loc='upper left', borderaxespad=0)\n",
    "plt.show()"
   ]
  },
  {
   "cell_type": "code",
   "execution_count": null,
   "id": "e1d1f267",
   "metadata": {},
   "outputs": [],
   "source": []
  }
 ],
 "metadata": {
  "kernelspec": {
   "display_name": "Python 3 (ipykernel)",
   "language": "python",
   "name": "python3"
  },
  "language_info": {
   "codemirror_mode": {
    "name": "ipython",
    "version": 3
   },
   "file_extension": ".py",
   "mimetype": "text/x-python",
   "name": "python",
   "nbconvert_exporter": "python",
   "pygments_lexer": "ipython3",
   "version": "3.8.13"
  }
 },
 "nbformat": 4,
 "nbformat_minor": 5
}

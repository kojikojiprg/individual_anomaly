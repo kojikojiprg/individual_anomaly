{
 "cells": [
  {
   "cell_type": "code",
   "execution_count": 1,
   "id": "f8107d1d-435c-439e-aa32-45a500cade45",
   "metadata": {},
   "outputs": [
    {
     "name": "stdout",
     "output_type": "stream",
     "text": [
      "/raid6/home/yokoyama/research\n"
     ]
    }
   ],
   "source": [
    "%cd /home/yokoyama/research\n",
    "from types import SimpleNamespace\n",
    "import sys\n",
    "import os\n",
    "from glob import glob\n",
    "\n",
    "import cv2\n",
    "import matplotlib.pyplot as plt\n",
    "import numpy as np\n",
    "import seaborn as sns\n",
    "from sklearn.manifold import TSNE\n",
    "import umap\n",
    "from sklearn.decomposition import PCA\n",
    "import torch\n",
    "import torch.nn as nn\n",
    "import torch.nn.functional as F\n",
    "from tqdm import tqdm\n",
    "\n",
    "sys.path.append(\".\")\n",
    "from modules.utils.video import Capture, Writer\n",
    "from modules.pose import PoseDataHandler"
   ]
  },
  {
   "cell_type": "code",
   "execution_count": 2,
   "id": "23efcc3f-7bba-4f42-9834-968691ac62cf",
   "metadata": {
    "tags": []
   },
   "outputs": [],
   "source": [
    "from submodules.i3d.pytorch_i3d import InceptionI3d\n",
    "from torchvision.ops import roi_align"
   ]
  },
  {
   "cell_type": "code",
   "execution_count": 3,
   "id": "78690118",
   "metadata": {},
   "outputs": [],
   "source": [
    "video_num = 1\n",
    "cap = Capture(f\"/raid6/home/yokoyama/datasets/dataset01/train/{video_num:02d}.mp4\")\n",
    "pose_data = PoseDataHandler.load(f\"data/dataset01/train/{video_num:02d}\", [\"bbox\"])"
   ]
  },
  {
   "cell_type": "code",
   "execution_count": 4,
   "id": "6487c665",
   "metadata": {},
   "outputs": [
    {
     "name": "stderr",
     "output_type": "stream",
     "text": [
      "100%|██████████| 64/64 [00:42<00:00,  1.50it/s]\n"
     ]
    },
    {
     "name": "stdout",
     "output_type": "stream",
     "text": [
      "[1, 3, 5, 9, 11, 12, 13, 15, 15, 16, 17, 18, 20, 20, 21, 23, 27, 34, 34, 35, 35, 37, 37, 38, 38, 40, 40, 41, 41, 46, 47, 47, 48, 51, 51, 56, 59, 60, 61, 62, 62, 64, 66, 67, 68, 75, 76, 77, 79, 79, 81, 83, 84, 84, 84, 87, 87, 88, 89, 92, 93, 95, 96, 98]\n"
     ]
    }
   ],
   "source": [
    "def calc_opticalflow(frames):\n",
    "    prev_frame = frames[0]\n",
    "    prev_gray = cv2.cvtColor(prev_frame, cv2.COLOR_RGB2GRAY)\n",
    "    h, w = prev_frame.shape[:2]\n",
    "    flows = [np.zeros((h, w, 2), dtype=np.float32)]\n",
    "    for frame in tqdm(frames[1:], leave=False):\n",
    "        next_gray = cv2.cvtColor(frame, cv2.COLOR_RGB2GRAY)\n",
    "        flow = cv2.calcOpticalFlowFarneback(prev_gray, next_gray, None, 0.5, 3, 15, 3, 5, 1.2, 0)\n",
    "        flows.append(flow)\n",
    "\n",
    "    return np.array(flows)\n",
    "\n",
    "\n",
    "def load_rgb_frames(cap, start_frame_nums, length, resize_ratio):\n",
    "    batches_frame = []\n",
    "    batches_flow = []\n",
    "    for start in tqdm(start_frame_nums):\n",
    "        frames_raw = []\n",
    "        frames = []\n",
    "        cap.set_pos_frame_count(start)\n",
    "        for _ in tqdm(range(length), leave=False):\n",
    "            img = cap.read()[1]\n",
    "            img = cv2.resize(img, None, fx=resize_ratio, fy=resize_ratio)\n",
    "            # w, h, c = img.shape\n",
    "            # if w < 226 or h < 226:\n",
    "            #     d = 226. - min(w, h)\n",
    "            #     sc = 1 + d / min(w, h)\n",
    "            #     img = cv2.resize(img, None, fx=sc, fy=sc)\n",
    "            frames_raw.append(img.copy())\n",
    "            img = (img / 255.) * 2 - 1\n",
    "            frames.append(img)\n",
    "\n",
    "        batches_frame.append(frames)\n",
    "\n",
    "        flows = calc_opticalflow(frames_raw)\n",
    "        batches_flow.append(flows)\n",
    "    return np.array(batches_frame, dtype=np.float32), np.array(batches_flow, dtype=np.float32)\n",
    "\n",
    "\n",
    "batch_num = 64\n",
    "frame_length = 30\n",
    "# start_frame_nums = sorted(np.random.choice(cap.frame_count, batch_num, replace=True) + 1)\n",
    "start_frame_nums = sorted(np.random.choice(100, batch_num, replace=True) + 1)\n",
    "frames, flows = load_rgb_frames(cap, start_frame_nums, frame_length, 0.25)\n",
    "print(start_frame_nums)"
   ]
  },
  {
   "cell_type": "code",
   "execution_count": 5,
   "id": "035f491f",
   "metadata": {},
   "outputs": [
    {
     "data": {
      "text/plain": [
       "torch.Size([64, 2, 30, 235, 320])"
      ]
     },
     "execution_count": 5,
     "metadata": {},
     "output_type": "execute_result"
    }
   ],
   "source": [
    "in_channels = 2\n",
    "\n",
    "if in_channels == 3:\n",
    "    tensor = torch.Tensor(frames)\n",
    "    model_path = \"submodules/i3d/models/rgb_imagenet.pt\"\n",
    "    # model_path = \"submodules/i3d/models/rgb_charades.pt\"\n",
    "elif in_channels == 2:\n",
    "    tensor = torch.Tensor(flows)\n",
    "    model_path = \"submodules/i3d/models/flow_imagenet.pt\"\n",
    "    # model_path = \"submodules/i3d/models/flow_charades.pt\"\n",
    "tensor = torch.permute(tensor, (0, 4, 1, 2, 3))\n",
    "tensor.shape"
   ]
  },
  {
   "cell_type": "code",
   "execution_count": 6,
   "id": "709cafd9",
   "metadata": {},
   "outputs": [
    {
     "name": "stdout",
     "output_type": "stream",
     "text": [
      "done\n"
     ]
    }
   ],
   "source": [
    "i3d = InceptionI3d(in_channels=in_channels)\n",
    "# i3d.cuda(1)\n",
    "# i3d.replace_logits(157)\n",
    "i3d.load_state_dict(torch.load(model_path))\n",
    "\n",
    "# i3d = InceptionI3d(in_channels=in_channels, final_endpoint=\"Mixed_3b\")\n",
    "# i3d.build()\n",
    "# i3d.cuda(1)\n",
    "print(\"done\")"
   ]
  },
  {
   "cell_type": "code",
   "execution_count": 7,
   "id": "790b4d9b",
   "metadata": {},
   "outputs": [
    {
     "data": {
      "text/plain": [
       "torch.Size([1, 256, 15, 30, 40])"
      ]
     },
     "execution_count": 7,
     "metadata": {},
     "output_type": "execute_result"
    }
   ],
   "source": [
    "# feature = i3d.extract_features(tensor)\n",
    "x = tensor[:1]\n",
    "for end_point in i3d.VALID_ENDPOINTS:\n",
    "    if end_point in i3d.end_points:\n",
    "        x = i3d._modules[end_point](x)\n",
    "    if end_point == \"Mixed_3b\":\n",
    "        break\n",
    "feature = x.cpu()\n",
    "feature.shape"
   ]
  },
  {
   "cell_type": "markdown",
   "id": "e053d3d7",
   "metadata": {},
   "source": [
    "torch.Size([2, 256, 15, 118, 160]) 3b  \n",
    "torch.Size([2, 480, 15, 118, 160]) 3c  \n",
    "torch.Size([1, 480, 8, 59, 80]) 4a  \n",
    "torch.Size([1, 512, 8, 59, 80]) 4b  \n",
    "torch.Size([1, 832, 8, 59, 80]) 4f"
   ]
  },
  {
   "cell_type": "code",
   "execution_count": 8,
   "id": "eb5cb891",
   "metadata": {},
   "outputs": [
    {
     "data": {
      "text/plain": [
       "0.125"
      ]
     },
     "execution_count": 8,
     "metadata": {},
     "output_type": "execute_result"
    }
   ],
   "source": [
    "h, w = frames.shape[2:4]\n",
    "fy, fx = feature.shape[3:5]\n",
    "fx / w"
   ]
  },
  {
   "cell_type": "code",
   "execution_count": 19,
   "id": "5822672b",
   "metadata": {},
   "outputs": [
    {
     "data": {
      "text/plain": [
       "(232, 256, 3, 3)"
      ]
     },
     "execution_count": 19,
     "metadata": {},
     "output_type": "execute_result"
    }
   ],
   "source": [
    "bboxs_all = []\n",
    "for start_frame_num in start_frame_nums:\n",
    "    pose_data_frame = [\n",
    "        data for data in pose_data\n",
    "        if data[\"frame\"] == start_frame_num\n",
    "    ]\n",
    "\n",
    "    bboxs = [np.array(data[\"bbox\"]).reshape(2, 2) for data in pose_data_frame]\n",
    "\n",
    "    bboxs = torch.Tensor(np.array(bboxs))\n",
    "    bboxs /= torch.Tensor((w, h))\n",
    "    bboxs *= torch.Tensor((fx, fy))\n",
    "\n",
    "    bboxs_all.append(bboxs.reshape(-1, 4))\n",
    "\n",
    "# bboxs_all = torch.empty((0, 5))\n",
    "# for i, start_frame_num in enumerate(start_frame_nums):\n",
    "#     pose_data_batch = [\n",
    "#         data for data in pose_data\n",
    "#         if data[\"frame\"] == start_frame_num + frame_length - 1\n",
    "#     ]\n",
    "\n",
    "#     bboxs = [np.array(data[\"bbox\"]).reshape(2, 2) for data in pose_data_batch]\n",
    "#     bboxs = torch.Tensor(np.array(bboxs))\n",
    "#     bboxs /= torch.Tensor((w, h))\n",
    "#     bboxs *= torch.Tensor((fx, fy))\n",
    "#     bboxs = bboxs.reshape(-1, 4)\n",
    "#     bboxs = torch.cat([torch.full((len(pose_data_batch), 1), i), bboxs], 1)\n",
    "\n",
    "#     bboxs_all = torch.cat([bboxs_all, bboxs], axis=0)\n",
    "# bboxs_all = torch.Tensor(bboxs_all)\n",
    "\n",
    "output_size = 3\n",
    "feature_aligned = roi_align(feature, bboxs_all, output_size, spatial_scale=fx / w, aligned=False)\n",
    "feature_aligned = feature_aligned.detach().numpy()\n",
    "\n",
    "feature_aligned.shape"
   ]
  },
  {
   "cell_type": "code",
   "execution_count": 20,
   "id": "b7644d00",
   "metadata": {},
   "outputs": [
    {
     "data": {
      "text/plain": [
       "array([[1.622098  , 0.40036553, 0.40775394],\n",
       "       [0.40006438, 0.3081165 , 0.8980869 ],\n",
       "       [0.25440624, 0.23870555, 0.20666772]], dtype=float32)"
      ]
     },
     "execution_count": 20,
     "metadata": {},
     "output_type": "execute_result"
    }
   ],
   "source": [
    "feature_aligned[0, 0]"
   ]
  },
  {
   "cell_type": "code",
   "execution_count": 21,
   "id": "0182823b",
   "metadata": {},
   "outputs": [
    {
     "data": {
      "text/plain": [
       "False"
      ]
     },
     "execution_count": 21,
     "metadata": {},
     "output_type": "execute_result"
    }
   ],
   "source": [
    "np.any(np.isinf(feature_aligned))"
   ]
  },
  {
   "cell_type": "code",
   "execution_count": 22,
   "id": "fbf24101",
   "metadata": {},
   "outputs": [
    {
     "data": {
      "text/plain": [
       "False"
      ]
     },
     "execution_count": 22,
     "metadata": {},
     "output_type": "execute_result"
    }
   ],
   "source": [
    "np.any(np.isnan(feature_aligned))"
   ]
  },
  {
   "cell_type": "code",
   "execution_count": 23,
   "id": "ad6ff924",
   "metadata": {},
   "outputs": [],
   "source": [
    "pids_all_batch = [\n",
    "    [\n",
    "        data[\"id\"] for data in pose_data\n",
    "        if data[\"frame\"] == start_frame_num\n",
    "    ]\n",
    "    for start_frame_num in start_frame_nums\n",
    "]"
   ]
  },
  {
   "cell_type": "code",
   "execution_count": 24,
   "id": "632c49a3",
   "metadata": {},
   "outputs": [],
   "source": [
    "features_aligned_all = feature_aligned.reshape(-1, 256 * output_size**2)\n",
    "# um = umap.UMAP(n_neighbors=6, random_state=64)\n",
    "# um.fit(features_aligned_all)\n",
    "pca = PCA(n_components=2)\n",
    "pca.fit(features_aligned_all)\n",
    "\n",
    "embedding_dict = {}\n",
    "tail_idx = 0\n",
    "for pid_batch, start_frame_num in zip(pids_all_batch, start_frame_nums):\n",
    "    data_num = len(pid_batch)\n",
    "    # pca = PCA(n_components=2)\n",
    "    # pca.fit(feature_aligned[tail_idx: tail_idx + data_num].reshape(-1, 256 * 2 * 2))\n",
    "    for i, pid in enumerate(pid_batch):\n",
    "        features = feature_aligned[i + tail_idx]\n",
    "        # embedding = um.transform(features.reshape(-1, 256 * 2 * 2))\n",
    "        embedding = pca.transform(features.reshape(-1, 256 * output_size**2))\n",
    "\n",
    "        if pid not in embedding_dict:\n",
    "            embedding_dict[pid] = np.empty((0, 3))\n",
    "        embedding = np.append(embedding, start_frame_num)\n",
    "        embedding_dict[pid] = np.append(embedding_dict[pid], [embedding], axis=0)\n",
    "\n",
    "    tail_idx += data_num"
   ]
  },
  {
   "cell_type": "code",
   "execution_count": 25,
   "id": "446e432b",
   "metadata": {},
   "outputs": [
    {
     "name": "stdout",
     "output_type": "stream",
     "text": [
      "[1, 3, 5, 9, 11, 12, 13, 15, 15, 16, 17, 18, 20, 20, 21, 23, 27, 34, 34, 35, 35, 37, 37, 38, 38, 40, 40, 41, 41, 46, 47, 47, 48, 51, 51, 56, 59, 60, 61, 62, 62, 64, 66, 67, 68, 75, 76, 77, 79, 79, 81, 83, 84, 84, 84, 87, 87, 88, 89, 92, 93, 95, 96, 98]\n"
     ]
    }
   ],
   "source": [
    "print(start_frame_nums)"
   ]
  },
  {
   "cell_type": "code",
   "execution_count": 28,
   "id": "fd1ef2f1",
   "metadata": {},
   "outputs": [
    {
     "name": "stderr",
     "output_type": "stream",
     "text": [
      "/tmp/ipykernel_3897733/928680282.py:6: UserWarning: *c* argument looks like a single numeric RGB or RGBA sequence, which should be avoided as value-mapping will have precedence in case its length matches with *x* & *y*.  Please use the *color* keyword-argument or provide a 2D array with a single row if you intend to specify the same RGB or RGBA value for all points.\n",
      "  plt.scatter(\n"
     ]
    },
    {
     "data": {
      "image/png": "[encoded data removed]",
      "text/plain": [
       "<Figure size 500x500 with 1 Axes>"
      ]
     },
     "metadata": {},
     "output_type": "display_data"
    }
   ],
   "source": [
    "import matplotlib.cm as cm\n",
    "plt.figure(figsize=(5, 5))\n",
    "for i, (pid, embedding) in enumerate(embedding_dict.items()):\n",
    "    # if i not in range(15, 20):\n",
    "    #     continue\n",
    "    plt.scatter(\n",
    "        embedding[:, 0], embedding[:, 1], s=7, label=pid, c=cm.hsv(i / len(embedding_dict))\n",
    "    )\n",
    "    for j in range(len(embedding)):\n",
    "        if embedding[j, 2] in start_frame_nums[:4]:\n",
    "            plt.text(embedding[j, 0], embedding[j, 1], int(embedding[j, 2]))\n",
    "\n",
    "# plt.colorbar(boundaries=np.arange(11)-0.5).set_ticks(pids)\n",
    "plt.xlim((-65, 0))\n",
    "plt.ylim((-50, 50))\n",
    "plt.legend(bbox_to_anchor=(1.01, 1), loc='upper left', borderaxespad=0)\n",
    "plt.show()"
   ]
  },
  {
   "cell_type": "code",
   "execution_count": null,
   "id": "6dfc867e",
   "metadata": {},
   "outputs": [],
   "source": []
  }
 ],
 "metadata": {
  "kernelspec": {
   "display_name": "Python 3 (ipykernel)",
   "language": "python",
   "name": "python3"
  },
  "language_info": {
   "codemirror_mode": {
    "name": "ipython",
    "version": 3
   },
   "file_extension": ".py",
   "mimetype": "text/x-python",
   "name": "python",
   "nbconvert_exporter": "python",
   "pygments_lexer": "ipython3",
   "version": "3.8.13"
  }
 },
 "nbformat": 4,
 "nbformat_minor": 5
}

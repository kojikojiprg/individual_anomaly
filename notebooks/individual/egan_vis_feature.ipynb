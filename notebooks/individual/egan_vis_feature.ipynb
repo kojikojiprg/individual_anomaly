{
 "cells": [
  {
   "cell_type": "code",
   "execution_count": 1,
   "id": "ccb0b92d-0532-4b5b-a8e1-4ebba8aac0db",
   "metadata": {},
   "outputs": [
    {
     "name": "stdout",
     "output_type": "stream",
     "text": [
      "/raid6/home/yokoyama/ahar\n"
     ]
    }
   ],
   "source": [
    "%cd /home/yokoyama/ahar\n",
    "from types import SimpleNamespace\n",
    "import sys\n",
    "import os\n",
    "from glob import glob\n",
    "\n",
    "import cv2\n",
    "import matplotlib.pyplot as plt\n",
    "import numpy as np\n",
    "import seaborn as sns\n",
    "from sklearn.manifold import TSNE\n",
    "import torch\n",
    "import torch.nn as nn\n",
    "import torch.nn.functional as F\n",
    "from tqdm.auto import tqdm\n",
    "from sklearn.manifold import TSNE\n",
    "from umap import UMAP\n",
    "\n",
    "sys.path.append(\".\")\n",
    "from modules.individual import IndividualActivityRecognition, IndividualDataFormat, IndividualDataHandler\n",
    "from modules.utils.logger import logger\n",
    "from modules.utils.constants import Stages"
   ]
  },
  {
   "cell_type": "code",
   "execution_count": 2,
   "id": "aa507f28-a813-4415-9580-252c31314c7d",
   "metadata": {
    "scrolled": true,
    "tags": []
   },
   "outputs": [],
   "source": [
    "# set constants\n",
    "model_type = \"egan\"\n",
    "train_data_dir = os.path.join(\"data\", \"dataset01\", \"train\")\n",
    "test_data_dir = os.path.join(\"data\", \"dataset01\", \"test\")\n",
    "data_types = [\"global\", \"local\"]\n",
    "stage = Stages.inference\n",
    "gpu_id = 0"
   ]
  },
  {
   "cell_type": "code",
   "execution_count": 3,
   "id": "392f53d2-1365-41aa-989a-b344cc2b643f",
   "metadata": {},
   "outputs": [],
   "source": [
    "# load results\n",
    "def load_results(data_dir, model_type, data_type):\n",
    "    results = {}\n",
    "    for data_dir in tqdm(sorted(glob(os.path.join(data_dir, \"*\")))):\n",
    "        video_num = os.path.basename(data_dir)\n",
    "        results[video_num] = IndividualDataHandler.load(data_dir, model_type, data_type)\n",
    "\n",
    "    return results"
   ]
  },
  {
   "cell_type": "code",
   "execution_count": 4,
   "id": "61494c3c-f26c-4e17-bd32-f9a8eb10e7ec",
   "metadata": {},
   "outputs": [
    {
     "data": {
      "application/vnd.jupyter.widget-view+json": {
       "model_id": "786c030930614d859a827d0fa439560a",
       "version_major": 2,
       "version_minor": 0
      },
      "text/plain": [
       "  0%|          | 0/20 [00:00<?, ?it/s]"
      ]
     },
     "metadata": {},
     "output_type": "display_data"
    },
    {
     "data": {
      "application/vnd.jupyter.widget-view+json": {
       "model_id": "af219be64ad14353ae29b6e880905ae9",
       "version_major": 2,
       "version_minor": 0
      },
      "text/plain": [
       "  0%|          | 0/20 [00:00<?, ?it/s]"
      ]
     },
     "metadata": {},
     "output_type": "display_data"
    },
    {
     "data": {
      "application/vnd.jupyter.widget-view+json": {
       "model_id": "0db115f41b594e9f9bed11f0f7ff901a",
       "version_major": 2,
       "version_minor": 0
      },
      "text/plain": [
       "  0%|          | 0/20 [00:00<?, ?it/s]"
      ]
     },
     "metadata": {},
     "output_type": "display_data"
    },
    {
     "data": {
      "application/vnd.jupyter.widget-view+json": {
       "model_id": "81c7fc87e45e46aebef6437457ef929d",
       "version_major": 2,
       "version_minor": 0
      },
      "text/plain": [
       "  0%|          | 0/20 [00:00<?, ?it/s]"
      ]
     },
     "metadata": {},
     "output_type": "display_data"
    }
   ],
   "source": [
    "train_results = {}\n",
    "test_results = {}\n",
    "for data_type in data_types:\n",
    "    train_results[data_type] = load_results(train_data_dir, model_type, data_type)\n",
    "    test_results[data_type] = load_results(test_data_dir, model_type, data_type)"
   ]
  },
  {
   "cell_type": "code",
   "execution_count": 5,
   "id": "4c54053a-d8e0-490f-b6c5-f9dfaf22d672",
   "metadata": {},
   "outputs": [],
   "source": [
    "def get_results_ind(results):\n",
    "    results_ind = {}\n",
    "    for video_num, video_results in tqdm(results.items()):\n",
    "        ind_results = {}\n",
    "        for item in video_results:\n",
    "            pid = item[IndividualDataFormat.id]\n",
    "            if pid not in ind_results:\n",
    "                # initialize individual data\n",
    "                ind_results[pid] = {\n",
    "                    key: [] for key in IndividualDataFormat.get_keys()\n",
    "                    if key != IndividualDataFormat.id\n",
    "                }\n",
    "\n",
    "            # append individual data\n",
    "            for key, value in item.items():\n",
    "                if key != IndividualDataFormat.id:\n",
    "                    ind_results[pid][key].append(item[key])\n",
    "        results_ind[video_num] = ind_results\n",
    "    return results_ind"
   ]
  },
  {
   "cell_type": "code",
   "execution_count": 6,
   "id": "0c78a052-b0ab-464b-ab3b-4be8c0f4e0ed",
   "metadata": {},
   "outputs": [
    {
     "data": {
      "application/vnd.jupyter.widget-view+json": {
       "model_id": "d92d535db1ce441e9dbd979c393d134e",
       "version_major": 2,
       "version_minor": 0
      },
      "text/plain": [
       "  0%|          | 0/20 [00:00<?, ?it/s]"
      ]
     },
     "metadata": {},
     "output_type": "display_data"
    },
    {
     "data": {
      "application/vnd.jupyter.widget-view+json": {
       "model_id": "5b1742896baa451381e7a2ae4dffeda6",
       "version_major": 2,
       "version_minor": 0
      },
      "text/plain": [
       "  0%|          | 0/20 [00:00<?, ?it/s]"
      ]
     },
     "metadata": {},
     "output_type": "display_data"
    },
    {
     "data": {
      "application/vnd.jupyter.widget-view+json": {
       "model_id": "922376aee78249c08d5f78c8cccb94ed",
       "version_major": 2,
       "version_minor": 0
      },
      "text/plain": [
       "  0%|          | 0/20 [00:00<?, ?it/s]"
      ]
     },
     "metadata": {},
     "output_type": "display_data"
    },
    {
     "data": {
      "application/vnd.jupyter.widget-view+json": {
       "model_id": "90e263b0382449ce81bcae763e42485a",
       "version_major": 2,
       "version_minor": 0
      },
      "text/plain": [
       "  0%|          | 0/20 [00:00<?, ?it/s]"
      ]
     },
     "metadata": {},
     "output_type": "display_data"
    }
   ],
   "source": [
    "train_results_ind = {}\n",
    "test_results_ind = {}\n",
    "for data_type in data_types:\n",
    "    results = get_results_ind(train_results[data_type])\n",
    "    # change data structure\n",
    "    for video_num, vals in results.items():\n",
    "        if video_num not in train_results_ind:\n",
    "            train_results_ind[video_num] = {}\n",
    "        train_results_ind[video_num][data_type] = vals\n",
    "\n",
    "    results = get_results_ind(test_results[data_type])\n",
    "    # change data structure\n",
    "    for video_num, vals in results.items():\n",
    "        if video_num not in test_results_ind:\n",
    "            test_results_ind[video_num] = {}\n",
    "        test_results_ind[video_num][data_type] = vals"
   ]
  },
  {
   "cell_type": "code",
   "execution_count": 7,
   "id": "15c1e314-204f-4334-8f89-1eca3275525e",
   "metadata": {},
   "outputs": [],
   "source": [
    "def create_mappers(train_results, data_name):\n",
    "    train_all_vals = {}\n",
    "    for data_type in data_types:\n",
    "        train_all_vals[data_type] = get_all_values(\n",
    "            train_results[data_type], data_name\n",
    "        )\n",
    "        \n",
    "    print(\"fitting\")\n",
    "    mappers = {}\n",
    "    for data_type, vals in tqdm(train_all_vals.items()):\n",
    "        # mapper = TSNE(\n",
    "        #     n_components=2, learning_rate=\"auto\", init=\"pca\", random_state=42\n",
    "        # )\n",
    "        mapper = UMAP()\n",
    "        mapper.fit(np.array(vals))\n",
    "        mappers[data_type] = mapper\n",
    "        \n",
    "    return mappers\n",
    "        \n",
    "def get_all_values(results, data_name):\n",
    "    x = []\n",
    "    for video_num, video_results in tqdm(results.items()):\n",
    "        for item in video_results:\n",
    "            val = item[data_name]\n",
    "            x.append(val)\n",
    "    return x"
   ]
  },
  {
   "cell_type": "code",
   "execution_count": 8,
   "id": "5d0184f2-fd59-4697-b4e0-5d4f5ad60e3e",
   "metadata": {},
   "outputs": [],
   "source": [
    "plt.rcParams['font.family'] = 'Times New Roman'\n",
    "plt.rcParams[\"font.size\"] = 16\n",
    "plt.rcParams['xtick.direction'] = 'in'  # x axis in\n",
    "plt.rcParams['ytick.direction'] = 'in'  # y axis in\n",
    "\n",
    "\n",
    "def plot(results, data_name, mappers, stage):\n",
    "    for video_num, video_results in results.items():\n",
    "        fig, axs = plt.subplots(1, len(video_results), figsize=(12, 5))\n",
    "        fig.subplots_adjust(hspace=0.3, wspace=0.15)\n",
    "        for i, (data_type, ind_results) in enumerate(video_results.items()): \n",
    "            for pid, ind_result in ind_results.items():\n",
    "                frame_nums = ind_result[IndividualDataFormat.frame_num]\n",
    "                vals = ind_result[data_name]\n",
    "                \n",
    "                # reduce dimention\n",
    "                vals = mappers[data_type].transform(vals)\n",
    "                x, y = vals.T\n",
    "\n",
    "                axs[i].scatter(x, y, label=pid, alpha=0.3)\n",
    "\n",
    "        axs[-1].legend(bbox_to_anchor=(1.01, 1), loc='upper left', borderaxespad=0)\n",
    "        \n",
    "        # save fig\n",
    "        # path = os.path.join(\n",
    "        #     \"data\", \"images\", \"individual\", model_type, data_name, f\"{stage}\", f\"{video_num}.jpg\"\n",
    "        # )\n",
    "        # os.makedirs(os.path.dirname(path), exist_ok=True)\n",
    "        # plt.savefig(path, bbox_inches='tight')\n",
    "        \n",
    "        # show\n",
    "        print(video_num)\n",
    "        plt.show()"
   ]
  },
  {
   "cell_type": "markdown",
   "id": "e66d34ce-846b-4e4a-9312-962891b01bad",
   "metadata": {},
   "source": [
    "# D Feature Real"
   ]
  },
  {
   "cell_type": "code",
   "execution_count": 9,
   "id": "daa8be83-83cc-4f76-8c51-84efac5a5f8c",
   "metadata": {},
   "outputs": [
    {
     "data": {
      "application/vnd.jupyter.widget-view+json": {
       "model_id": "a89ca1b377e148a2ba0af85544ac5e2d",
       "version_major": 2,
       "version_minor": 0
      },
      "text/plain": [
       "  0%|          | 0/20 [00:00<?, ?it/s]"
      ]
     },
     "metadata": {},
     "output_type": "display_data"
    },
    {
     "data": {
      "application/vnd.jupyter.widget-view+json": {
       "model_id": "c350cbdb27e748159560293cda9afc6e",
       "version_major": 2,
       "version_minor": 0
      },
      "text/plain": [
       "  0%|          | 0/20 [00:00<?, ?it/s]"
      ]
     },
     "metadata": {},
     "output_type": "display_data"
    },
    {
     "name": "stdout",
     "output_type": "stream",
     "text": [
      "fitting\n"
     ]
    },
    {
     "data": {
      "application/vnd.jupyter.widget-view+json": {
       "model_id": "fe3fee605f8f4e91919d93ef4831d5da",
       "version_major": 2,
       "version_minor": 0
      },
      "text/plain": [
       "  0%|          | 0/2 [00:00<?, ?it/s]"
      ]
     },
     "metadata": {},
     "output_type": "display_data"
    },
    {
     "name": "stderr",
     "output_type": "stream",
     "text": [
      "\n",
      "KeyboardInterrupt\n",
      "\n"
     ]
    }
   ],
   "source": [
    "data_name = IndividualDataFormat.f_real\n",
    "f_real_mappers = create_mappers(train_results, data_name)"
   ]
  },
  {
   "cell_type": "code",
   "execution_count": null,
   "id": "75931d0b-45ea-44da-ac71-d0dfc104fed1",
   "metadata": {
    "scrolled": true,
    "tags": []
   },
   "outputs": [],
   "source": [
    "plot(train_results_ind, data_name, f_real_mappers, \"train\")"
   ]
  },
  {
   "cell_type": "code",
   "execution_count": null,
   "id": "7131e5b6-c44d-4f6e-8773-26c0f7929f8b",
   "metadata": {
    "scrolled": true,
    "tags": []
   },
   "outputs": [],
   "source": [
    "plot(test_results_ind, data_name, f_real_mappers, \"test\")"
   ]
  },
  {
   "cell_type": "markdown",
   "id": "c00f492e-9be6-4176-baca-95217427ded8",
   "metadata": {},
   "source": [
    "# D Feature Fake"
   ]
  },
  {
   "cell_type": "code",
   "execution_count": null,
   "id": "9496e82b-da5d-4ec4-bd1a-0451b4df22b5",
   "metadata": {},
   "outputs": [],
   "source": [
    "data_name = IndividualDataFormat.f_fake\n",
    "f_fake_mappers = create_mappers(train_results, data_name)"
   ]
  },
  {
   "cell_type": "code",
   "execution_count": null,
   "id": "51ba2a03-0f9c-4fb4-aafc-a52fc937c392",
   "metadata": {},
   "outputs": [],
   "source": [
    "plot(train_results_ind, data_name, f_fake_mappers, \"train\")"
   ]
  },
  {
   "cell_type": "code",
   "execution_count": null,
   "id": "9a0704e4-759b-411f-9cc6-4cd24bc6809b",
   "metadata": {
    "tags": []
   },
   "outputs": [],
   "source": [
    "plot(test_results_ind, data_name, f_fake_mappers, \"test\")"
   ]
  },
  {
   "cell_type": "markdown",
   "id": "923157f2-7cb1-4b99-a590-97eb22a0b77b",
   "metadata": {},
   "source": [
    "# E Z"
   ]
  },
  {
   "cell_type": "code",
   "execution_count": null,
   "id": "3724d283-993c-4ef8-b33e-dddd5e34db11",
   "metadata": {},
   "outputs": [],
   "source": [
    "data_name = IndividualDataFormat.z\n",
    "z_mappers = create_mappers(train_results, data_name)"
   ]
  },
  {
   "cell_type": "code",
   "execution_count": null,
   "id": "6c54344b-4162-46a0-a81e-6c3df06ccee8",
   "metadata": {
    "scrolled": true,
    "tags": []
   },
   "outputs": [],
   "source": [
    "plot(train_results_ind, data_name, z_mappers, \"train\")"
   ]
  },
  {
   "cell_type": "code",
   "execution_count": null,
   "id": "e896aad7-a0d3-426f-b4d2-d10b9373ec6d",
   "metadata": {
    "scrolled": true,
    "tags": []
   },
   "outputs": [],
   "source": [
    "plot(test_results_ind, data_name, z_mappers, \"test\")"
   ]
  },
  {
   "cell_type": "code",
   "execution_count": null,
   "id": "36a27649-6ea2-4ffe-bf9f-fabcda696e4d",
   "metadata": {},
   "outputs": [],
   "source": []
  }
 ],
 "metadata": {
  "kernelspec": {
   "display_name": "Python 3 (ipykernel)",
   "language": "python",
   "name": "python3"
  },
  "language_info": {
   "codemirror_mode": {
    "name": "ipython",
    "version": 3
   },
   "file_extension": ".py",
   "mimetype": "text/x-python",
   "name": "python",
   "nbconvert_exporter": "python",
   "pygments_lexer": "ipython3",
   "version": "3.8.13"
  }
 },
 "nbformat": 4,
 "nbformat_minor": 5
}

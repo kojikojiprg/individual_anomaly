{
 "cells": [
  {
   "cell_type": "code",
   "execution_count": 1,
   "id": "ccb0b92d-0532-4b5b-a8e1-4ebba8aac0db",
   "metadata": {},
   "outputs": [
    {
     "name": "stdout",
     "output_type": "stream",
     "text": [
      "/raid6/home/yokoyama/ahar\n"
     ]
    }
   ],
   "source": [
    "%cd /home/yokoyama/ahar\n",
    "from types import SimpleNamespace\n",
    "import sys\n",
    "import os\n",
    "from glob import glob\n",
    "\n",
    "import cv2\n",
    "import matplotlib.pyplot as plt\n",
    "import numpy as np\n",
    "import seaborn as sns\n",
    "from sklearn.manifold import TSNE\n",
    "import torch\n",
    "import torch.nn as nn\n",
    "import torch.nn.functional as F\n",
    "from tqdm.auto import tqdm\n",
    "\n",
    "sys.path.append(\".\")\n",
    "from modules.individual import IndividualActivityRecognition, IndividualDataFormat, IndividualDataHandler\n",
    "from modules.utils.logger import logger\n",
    "from modules.utils.constants import Stages"
   ]
  },
  {
   "cell_type": "code",
   "execution_count": 2,
   "id": "aa507f28-a813-4415-9580-252c31314c7d",
   "metadata": {
    "scrolled": true,
    "tags": []
   },
   "outputs": [],
   "source": [
    "# set constants\n",
    "model_type = \"egan\"\n",
    "train_data_dir = os.path.join(\"data\", \"dataset01\", \"train\")\n",
    "test_data_dir = os.path.join(\"data\", \"dataset01\", \"test\")\n",
    "data_types = [\"global\", \"global_bbox\", \"local\"]\n",
    "# data_types = [\"global_bbox\", \"local\"]\n",
    "stage = Stages.inference\n",
    "gpu_id = 0"
   ]
  },
  {
   "cell_type": "code",
   "execution_count": 3,
   "id": "392f53d2-1365-41aa-989a-b344cc2b643f",
   "metadata": {},
   "outputs": [],
   "source": [
    "# load results\n",
    "def load_results(data_dir, model_type, data_type):\n",
    "    results = {}\n",
    "    for data_dir in tqdm(sorted(glob(os.path.join(data_dir, \"*\")))):\n",
    "        video_num = os.path.basename(data_dir)\n",
    "        results[video_num] = IndividualDataHandler.load(data_dir, model_type, data_type)\n",
    "\n",
    "    return results"
   ]
  }
 ],
 "metadata": {
  "kernelspec": {
   "display_name": "Python 3 (ipykernel)",
   "language": "python",
   "name": "python3"
  },
  "language_info": {
   "codemirror_mode": {
    "name": "ipython",
    "version": 3
   },
   "file_extension": ".py",
   "mimetype": "text/x-python",
   "name": "python",
   "nbconvert_exporter": "python",
   "pygments_lexer": "ipython3",
   "version": "3.8.13"
  }
 },
 "nbformat": 4,
 "nbformat_minor": 5
}

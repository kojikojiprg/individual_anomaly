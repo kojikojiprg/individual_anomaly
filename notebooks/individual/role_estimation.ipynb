{
 "cells": [
  {
   "cell_type": "code",
   "execution_count": 1,
   "id": "63923991-97ab-4a24-92ce-fd307984d321",
   "metadata": {
    "tags": []
   },
   "outputs": [
    {
     "name": "stdout",
     "output_type": "stream",
     "text": [
      "/raid6/home/yokoyama/research\n"
     ]
    }
   ],
   "source": [
    "%cd /home/yokoyama/research\n",
    "from types import SimpleNamespace\n",
    "import sys\n",
    "import os\n",
    "from glob import glob\n",
    "\n",
    "import cv2\n",
    "import matplotlib.pyplot as plt\n",
    "import numpy as np\n",
    "import seaborn as sns\n",
    "from sklearn.manifold import TSNE\n",
    "import torch\n",
    "import torch.nn as nn\n",
    "import torch.nn.functional as F\n",
    "from tqdm.auto import tqdm\n",
    "\n",
    "sys.path.append(\".\")\n",
    "from modules.individual import IndividualActivityRecognition, IndividualDataFormat, IndividualDataHandler\n",
    "from modules.utils.constants import Stages\n",
    "from modules.utils.video import Capture, Writer"
   ]
  },
  {
   "cell_type": "code",
   "execution_count": 2,
   "id": "2cbe95bc-6611-4702-84ce-ac4ac3b10a10",
   "metadata": {
    "tags": []
   },
   "outputs": [],
   "source": [
    "# set constants\n",
    "model_type = \"role_estimation\"\n",
    "data_type = \"bbox\"\n",
    "seq_len = 150\n",
    "\n",
    "train_data_dir = os.path.join(\"data\", \"dataset01\", \"train\")\n",
    "test_data_dir = os.path.join(\"data\", \"dataset01\", \"test\")"
   ]
  },
  {
   "cell_type": "code",
   "execution_count": 3,
   "id": "14dc3066-7dce-454b-9830-f79e75dd713a",
   "metadata": {
    "tags": []
   },
   "outputs": [],
   "source": [
    "# load results\n",
    "def load_results(data_dir, model_type, data_type, seq_len, data_keys):\n",
    "    results = {}\n",
    "    # for data_dir in tqdm(sorted(glob(os.path.join(data_dir, \"*\")))[:1]):\n",
    "    for data_dir in tqdm(sorted(glob(os.path.join(data_dir, \"*\")))):\n",
    "        video_num = os.path.basename(data_dir)\n",
    "        results[video_num] = IndividualDataHandler.load(data_dir, model_type, data_type, False, seq_len, data_keys)\n",
    "\n",
    "    return results"
   ]
  },
  {
   "cell_type": "code",
   "execution_count": 4,
   "id": "6ff8efd9-0be5-42fa-be09-6fe2710052d7",
   "metadata": {
    "tags": []
   },
   "outputs": [
    {
     "data": {
      "application/vnd.jupyter.widget-view+json": {
       "model_id": "666322d012134bd8918a2d07f31f0ae6",
       "version_major": 2,
       "version_minor": 0
      },
      "text/plain": [
       "  0%|          | 0/20 [00:00<?, ?it/s]"
      ]
     },
     "metadata": {},
     "output_type": "display_data"
    }
   ],
   "source": [
    "data_keys = [IndividualDataFormat.bbox_real, IndividualDataFormat.role_label, IndividualDataFormat.role_aux]\n",
    "train_results = load_results(train_data_dir, model_type, data_type, seq_len, data_keys)\n",
    "# test_results = load_results(test_data_dir, model_type, data_type, seq_len, data_keys)"
   ]
  },
  {
   "cell_type": "code",
   "execution_count": 5,
   "id": "421f590d-00d2-4080-bbc4-3d727cb54ce2",
   "metadata": {
    "tags": []
   },
   "outputs": [],
   "source": [
    "from modules.visualize.pose import draw_bbox, put_frame_num\n",
    "\n",
    "\n",
    "def write_frame(frame, ind_data_lst, frame_num):\n",
    "    # add keypoints to image\n",
    "    frame = put_frame_num(frame, frame_num)\n",
    "    for data in ind_data_lst:\n",
    "        if data[IndividualDataFormat.frame_num] == frame_num:\n",
    "            idx = np.argmax(data[IndividualDataFormat.role_aux])\n",
    "            if idx == 1:\n",
    "                frame = draw_bbox(frame, np.array(data[IndividualDataFormat.bbox_real])[-1] * frame.shape[1::-1])\n",
    "\n",
    "    return frame"
   ]
  },
  {
   "cell_type": "code",
   "execution_count": null,
   "id": "aa184de1-d736-4e18-8b9c-4d88d37ce251",
   "metadata": {},
   "outputs": [
    {
     "name": "stdout",
     "output_type": "stream",
     "text": [
      "01\n"
     ]
    },
    {
     "data": {
      "application/vnd.jupyter.widget-view+json": {
       "model_id": "2cd1d39ee11a40cf974d77cc9799b912",
       "version_major": 2,
       "version_minor": 0
      },
      "text/plain": [
       "  0%|          | 0/5400 [00:00<?, ?it/s]"
      ]
     },
     "metadata": {},
     "output_type": "display_data"
    },
    {
     "name": "stdout",
     "output_type": "stream",
     "text": [
      "02\n"
     ]
    },
    {
     "data": {
      "application/vnd.jupyter.widget-view+json": {
       "model_id": "60100abde12e4b1c96986adb6b0fd70b",
       "version_major": 2,
       "version_minor": 0
      },
      "text/plain": [
       "  0%|          | 0/5400 [00:00<?, ?it/s]"
      ]
     },
     "metadata": {},
     "output_type": "display_data"
    },
    {
     "name": "stdout",
     "output_type": "stream",
     "text": [
      "03\n"
     ]
    },
    {
     "data": {
      "application/vnd.jupyter.widget-view+json": {
       "model_id": "32fd6e034df349b4a66c1ca831c0a3e9",
       "version_major": 2,
       "version_minor": 0
      },
      "text/plain": [
       "  0%|          | 0/5400 [00:00<?, ?it/s]"
      ]
     },
     "metadata": {},
     "output_type": "display_data"
    }
   ],
   "source": [
    "results = train_results\n",
    "s = \"train\"\n",
    "\n",
    "for video_num, result in results.items():\n",
    "    print(video_num)\n",
    "    data_dir = os.path.join(\"data\", \"dataset01\", s, video_num)\n",
    "    \n",
    "    # load video\n",
    "    video_path = os.path.join(data_dir, f\"{video_num}_pose.mp4\")\n",
    "    cap = Capture(video_path)\n",
    "    \n",
    "    # save_video\n",
    "    tmp_frame = cap.read()[1]\n",
    "    cap.set_pos_frame_count(0)\n",
    "    out_path = os.path.join(data_dir, f\"{video_num}_role_{data_type}_seq{seq_len}.mp4\")\n",
    "    wtr = Writer(out_path, cap.fps, tmp_frame.shape[1::-1])\n",
    "    \n",
    "    # write frame\n",
    "    for frame_num in tqdm(range(cap.frame_count)):\n",
    "        frame_num += 1\n",
    "        ret, frame = cap.read()\n",
    "        frame = write_frame(frame, result, frame_num)\n",
    "        wtr.write(frame)\n",
    "        \n",
    "del cap, wtr"
   ]
  },
  {
   "cell_type": "code",
   "execution_count": null,
   "id": "576600b3-e0e8-461a-8a73-a1fedb08c6da",
   "metadata": {},
   "outputs": [],
   "source": []
  }
 ],
 "metadata": {
  "kernelspec": {
   "display_name": "Python 3 (ipykernel)",
   "language": "python",
   "name": "python3"
  },
  "language_info": {
   "codemirror_mode": {
    "name": "ipython",
    "version": 3
   },
   "file_extension": ".py",
   "mimetype": "text/x-python",
   "name": "python",
   "nbconvert_exporter": "python",
   "pygments_lexer": "ipython3",
   "version": "3.8.13"
  }
 },
 "nbformat": 4,
 "nbformat_minor": 5
}

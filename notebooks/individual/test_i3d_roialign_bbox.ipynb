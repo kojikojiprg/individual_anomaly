{
 "cells": [
  {
   "cell_type": "code",
   "execution_count": 1,
   "id": "f8107d1d-435c-439e-aa32-45a500cade45",
   "metadata": {},
   "outputs": [
    {
     "name": "stdout",
     "output_type": "stream",
     "text": [
      "/raid6/home/yokoyama/research\n"
     ]
    }
   ],
   "source": [
    "%cd /home/yokoyama/research\n",
    "from types import SimpleNamespace\n",
    "import sys\n",
    "import os\n",
    "from glob import glob\n",
    "\n",
    "import cv2\n",
    "import matplotlib.pyplot as plt\n",
    "import numpy as np\n",
    "import seaborn as sns\n",
    "from sklearn.manifold import TSNE\n",
    "import umap\n",
    "from sklearn.decomposition import PCA\n",
    "import torch\n",
    "import torch.nn as nn\n",
    "import torch.nn.functional as F\n",
    "from tqdm import tqdm\n",
    "\n",
    "sys.path.append(\".\")\n",
    "from modules.utils.video import Capture, Writer\n",
    "from modules.pose import PoseDataHandler"
   ]
  },
  {
   "cell_type": "code",
   "execution_count": 2,
   "id": "23efcc3f-7bba-4f42-9834-968691ac62cf",
   "metadata": {
    "tags": []
   },
   "outputs": [],
   "source": [
    "from submodules.i3d.pytorch_i3d import InceptionI3d\n",
    "from torchvision.ops import roi_align"
   ]
  },
  {
   "cell_type": "code",
   "execution_count": 3,
   "id": "78690118",
   "metadata": {},
   "outputs": [],
   "source": [
    "video_num = 1\n",
    "cap = Capture(f\"/raid6/home/yokoyama/datasets/dataset01/train/{video_num:02d}.mp4\")\n",
    "pose_data = PoseDataHandler.load(f\"data/dataset01/train/{video_num:02d}\", [\"bbox\"])"
   ]
  },
  {
   "cell_type": "code",
   "execution_count": 4,
   "id": "b6b5aef9",
   "metadata": {},
   "outputs": [
    {
     "name": "stderr",
     "output_type": "stream",
     "text": [
      "100%|██████████| 5400/5400 [01:47<00:00, 50.32it/s]\n"
     ]
    }
   ],
   "source": [
    "def load_frames_flows(cap, resize_ratio):\n",
    "    frames = []\n",
    "    w, h = cap.size\n",
    "    flows = [np.zeros((int(h * resize_ratio), int(w * resize_ratio), 2))]\n",
    "    for frame_num in tqdm(range(cap.frame_count)):\n",
    "        frame_num += 1\n",
    "\n",
    "        frame = cap.read()[1]\n",
    "        frame = cv2.resize(frame, None, fx=resize_ratio, fy=resize_ratio)\n",
    "        frames.append(frame)\n",
    "        if frame_num == 1:\n",
    "            continue\n",
    "\n",
    "        pre_gray = cv2.cvtColor(frames[-2], cv2.COLOR_RGB2GRAY)\n",
    "        gray = cv2.cvtColor(frame, cv2.COLOR_RGB2GRAY)\n",
    "        flow = cv2.calcOpticalFlowFarneback(pre_gray, gray, None, 0.5, 3, 15, 3, 5, 1.2, 0)\n",
    "        flows.append(flow)\n",
    "\n",
    "    frames = (np.array(frames) / 255.) * 2 - 1\n",
    "    flows = np.array(flows)\n",
    "\n",
    "    return frames, flows\n",
    "\n",
    "resize_ratio = 0.25\n",
    "frames, flows = load_frames_flows(cap, resize_ratio)"
   ]
  },
  {
   "cell_type": "code",
   "execution_count": 5,
   "id": "0f54c8a3",
   "metadata": {},
   "outputs": [
    {
     "name": "stderr",
     "output_type": "stream",
     "text": [
      "100%|██████████| 5400/5400 [00:07<00:00, 702.24it/s]\n"
     ]
    }
   ],
   "source": [
    "def create_dataset(frames, flows, pose_data, frame_count, resize_ratio):\n",
    "    dataset = []\n",
    "    for frame_num in tqdm(range(frame_count)):\n",
    "        frame_num += 1\n",
    "\n",
    "        frame = frames[frame_num - 1]\n",
    "        flow = flows[frame_num - 1]\n",
    "        pose_data_frame = [data for data in pose_data if data[\"frame\"] == frame_num]\n",
    "        pids = [data[\"id\"] for data in pose_data_frame]\n",
    "        bboxs = [np.array(data[\"bbox\"]) * resize_ratio for data in pose_data_frame]\n",
    "\n",
    "        for pid, bbox in zip(pids, bboxs):\n",
    "            x1, y1, x2, y2 = bbox.astype(int)\n",
    "            frame_tmp = frame[y1:y2, x1:x2]\n",
    "            flow_tmp = flow[y1:y2, x1:x2]\n",
    "\n",
    "            dataset.append({\"frame\": frame_num, \"id\": pid, \"bbox\": bbox, \"img\": frame_tmp, \"flow\": flow_tmp})\n",
    "\n",
    "    return dataset\n",
    "\n",
    "dataset = create_dataset(frames, flows, pose_data, cap.frame_count, resize_ratio)"
   ]
  },
  {
   "cell_type": "code",
   "execution_count": 6,
   "id": "9382da4a",
   "metadata": {},
   "outputs": [
    {
     "data": {
      "text/plain": [
       "<matplotlib.image.AxesImage at 0x7f097f847d00>"
      ]
     },
     "execution_count": 6,
     "metadata": {},
     "output_type": "execute_result"
    },
    {
     "data": {
      "image/png": "[encoded data removed]",
      "text/plain": [
       "<Figure size 640x480 with 1 Axes>"
      ]
     },
     "metadata": {},
     "output_type": "display_data"
    }
   ],
   "source": [
    "plt.imshow(((dataset[10][\"img\"] + 1) / 2 * 255).astype(np.uint8))"
   ]
  },
  {
   "cell_type": "code",
   "execution_count": 7,
   "id": "97034d97",
   "metadata": {},
   "outputs": [
    {
     "name": "stdout",
     "output_type": "stream",
     "text": [
      "[1445, 1446, 1447, 1448, 1449, 1450, 1451, 1452, 1453, 1454, 1455, 1456, 1457, 1458, 1459, 1460, 1461, 1462, 1463, 1464, 1465, 1466, 1467, 1468, 1469, 1470, 1471, 1472, 1473, 1474, 1475, 1476, 1477, 1478, 1479, 1480, 1481, 1482, 1483, 1484, 1485, 1486, 1487, 1488, 1489, 1490, 1491, 1492, 1493, 1494, 1495, 1496, 1497, 1498, 1499, 1500, 1501, 1502, 1503, 1504, 1505, 1506, 1507, 1508, 1509, 1510, 1511, 1512, 1513, 1514, 1515, 1516, 1517, 1518, 1519, 1520, 1521, 1522, 1523, 1524, 1525, 1526, 1527, 1528, 1529, 1530, 1531, 1532, 1533, 1534, 1535, 1536, 1537, 1538, 1539, 1540, 1541, 1542, 1543, 1544]\n"
     ]
    },
    {
     "name": "stderr",
     "output_type": "stream",
     "text": [
      "100%|██████████| 100/100 [01:01<00:00,  1.63it/s]\n"
     ]
    }
   ],
   "source": [
    "def create_batch(dataset, seq_len, start_frame_nums):\n",
    "    batch = []\n",
    "    for start_frame_num in tqdm(start_frame_nums):\n",
    "        data_batch = {}\n",
    "        for frame_num in range(seq_len):\n",
    "            frame_num += start_frame_num\n",
    "\n",
    "            for data in dataset:\n",
    "                if data[\"frame\"] != frame_num:\n",
    "                    continue\n",
    "                frame_num, pid, bbox, frame, flow = list(data.values())\n",
    "\n",
    "                if pid not in data_batch:\n",
    "                    data_batch[pid] = {\"img\": [], \"flow\": []}\n",
    "                data_batch[pid][\"img\"].append(frame)\n",
    "                data_batch[pid][\"flow\"].append(flow)\n",
    "\n",
    "        for pid, data in data_batch.items():\n",
    "            frames = []\n",
    "            flows = []\n",
    "            for frame, flow in zip(data[\"img\"], data[\"flow\"]):\n",
    "                frames.append(cv2.resize(frame, (288, 384)))\n",
    "                flows.append(cv2.resize(flow, (288, 384)))\n",
    "\n",
    "            if len (frames) < seq_len:\n",
    "                continue\n",
    "            batch.append((start_frame_num, pid, np.array(frames), np.array(flows)))\n",
    "\n",
    "    return batch\n",
    "\n",
    "batch_num = 100\n",
    "frame_length = 90\n",
    "start_frame_num = 1545-100\n",
    "# start_frame_nums = sorted(np.random.choice(cap.frame_count, batch_num, replace=True) + start_frame_num)\n",
    "start_frame_nums = sorted(np.random.choice(100, batch_num, replace=False) + start_frame_num)\n",
    "print(start_frame_nums)\n",
    "batch = create_batch(dataset, frame_length, start_frame_nums)"
   ]
  },
  {
   "cell_type": "code",
   "execution_count": 8,
   "id": "035f491f",
   "metadata": {},
   "outputs": [],
   "source": [
    "in_channels = 2\n",
    "\n",
    "if in_channels == 3:\n",
    "    # model_path = \"submodules/i3d/models/rgb_imagenet.pt\"\n",
    "    model_path = \"submodules/i3d/models/rgb_charades.pt\"\n",
    "elif in_channels == 2:\n",
    "    tensor = torch.Tensor(flows)\n",
    "    # model_path = \"submodules/i3d/models/flow_imagenet.pt\"\n",
    "    model_path = \"submodules/i3d/models/flow_charades.pt\""
   ]
  },
  {
   "cell_type": "code",
   "execution_count": 9,
   "id": "709cafd9",
   "metadata": {},
   "outputs": [
    {
     "name": "stdout",
     "output_type": "stream",
     "text": [
      "done\n"
     ]
    }
   ],
   "source": [
    "i3d = InceptionI3d(in_channels=in_channels)\n",
    "# i3d.cuda(1)\n",
    "i3d.replace_logits(157)\n",
    "i3d.load_state_dict(torch.load(model_path))\n",
    "\n",
    "# i3d = InceptionI3d(in_channels=in_channels, final_endpoint=\"Mixed_3b\")\n",
    "# i3d.build()\n",
    "# i3d.cuda(1)\n",
    "print(\"done\")"
   ]
  },
  {
   "cell_type": "code",
   "execution_count": 17,
   "id": "790b4d9b",
   "metadata": {},
   "outputs": [
    {
     "name": "stderr",
     "output_type": "stream",
     "text": [
      "100%|██████████| 193/193 [03:26<00:00,  1.07s/it]\n"
     ]
    },
    {
     "data": {
      "text/plain": [
       "(193, 256, 2, 2)"
      ]
     },
     "execution_count": 17,
     "metadata": {},
     "output_type": "execute_result"
    }
   ],
   "source": [
    "output_size = 2\n",
    "\n",
    "features = []\n",
    "for data in tqdm(batch):\n",
    "    if in_channels == 3:\n",
    "        s, h, w, c = data[2].shape\n",
    "        x = torch.Tensor(data[2].reshape(1, s, h, w, c))\n",
    "    elif in_channels == 2:\n",
    "        s, h, w, c = data[3].shape\n",
    "        x = torch.Tensor(data[3].reshape(1, s, h, w, c))\n",
    "    x = x.permute(0, 4, 1, 2, 3)\n",
    "    for end_point in i3d.VALID_ENDPOINTS:\n",
    "        if end_point in i3d.end_points:\n",
    "            x = i3d._modules[end_point](x)\n",
    "        if end_point == \"Mixed_3b\":\n",
    "            break\n",
    "    _, _, _, fy, fx = x.shape\n",
    "    bbox = np.array([[0, 0, fx, fy]])\n",
    "    x = roi_align(x, [torch.Tensor(bbox)], output_size, spatial_scale=fx / w)\n",
    "    features.append(x.cpu().squeeze(0).detach().numpy())\n",
    "\n",
    "features = np.array(features)\n",
    "features.shape"
   ]
  },
  {
   "cell_type": "code",
   "execution_count": 18,
   "id": "06343d6f",
   "metadata": {},
   "outputs": [
    {
     "data": {
      "text/plain": [
       "[1, 2, 6, 10, 11]"
      ]
     },
     "execution_count": 18,
     "metadata": {},
     "output_type": "execute_result"
    }
   ],
   "source": [
    "pids = list(set([data[1] for data in batch]))\n",
    "pids"
   ]
  },
  {
   "cell_type": "code",
   "execution_count": 19,
   "id": "632c49a3",
   "metadata": {},
   "outputs": [
    {
     "name": "stderr",
     "output_type": "stream",
     "text": [
      " 99%|█████████▉| 192/193 [00:00<00:00, 8142.14it/s]\n"
     ]
    }
   ],
   "source": [
    "features_all = features.reshape(len(features), -1)\n",
    "pca = PCA(n_components=2)\n",
    "pca.fit(features_all)\n",
    "\n",
    "embedding_dict = {}\n",
    "for data, feature in zip(batch, tqdm(features)):\n",
    "    frame_num = data[0]\n",
    "    pid = data[1]\n",
    "    if pid not in embedding_dict:\n",
    "        embedding_dict[pid] = np.empty((0, 3))\n",
    "    embedding = pca.transform(feature.reshape(1, -1))\n",
    "    embedding = np.append(embedding, frame_num)\n",
    "    embedding_dict[pid] = np.append(embedding_dict[pid], [embedding], axis=0)"
   ]
  },
  {
   "cell_type": "code",
   "execution_count": 20,
   "id": "446e432b",
   "metadata": {},
   "outputs": [
    {
     "name": "stdout",
     "output_type": "stream",
     "text": [
      "[1445, 1446, 1447, 1448, 1449, 1450, 1451, 1452, 1453, 1454, 1455, 1456, 1457, 1458, 1459, 1460, 1461, 1462, 1463, 1464, 1465, 1466, 1467, 1468, 1469, 1470, 1471, 1472, 1473, 1474, 1475, 1476, 1477, 1478, 1479, 1480, 1481, 1482, 1483, 1484, 1485, 1486, 1487, 1488, 1489, 1490, 1491, 1492, 1493, 1494, 1495, 1496, 1497, 1498, 1499, 1500, 1501, 1502, 1503, 1504, 1505, 1506, 1507, 1508, 1509, 1510, 1511, 1512, 1513, 1514, 1515, 1516, 1517, 1518, 1519, 1520, 1521, 1522, 1523, 1524, 1525, 1526, 1527, 1528, 1529, 1530, 1531, 1532, 1533, 1534, 1535, 1536, 1537, 1538, 1539, 1540, 1541, 1542, 1543, 1544]\n"
     ]
    }
   ],
   "source": [
    "print(start_frame_nums)"
   ]
  },
  {
   "cell_type": "code",
   "execution_count": 21,
   "id": "fd1ef2f1",
   "metadata": {},
   "outputs": [
    {
     "name": "stderr",
     "output_type": "stream",
     "text": [
      "/tmp/ipykernel_2643578/2264242287.py:6: UserWarning: *c* argument looks like a single numeric RGB or RGBA sequence, which should be avoided as value-mapping will have precedence in case its length matches with *x* & *y*.  Please use the *color* keyword-argument or provide a 2D array with a single row if you intend to specify the same RGB or RGBA value for all points.\n",
      "  plt.scatter(\n"
     ]
    },
    {
     "data": {
      "image/png": "[encoded data removed]",
      "text/plain": [
       "<Figure size 500x500 with 1 Axes>"
      ]
     },
     "metadata": {},
     "output_type": "display_data"
    }
   ],
   "source": [
    "import matplotlib.cm as cm\n",
    "plt.figure(figsize=(5, 5))\n",
    "for i, (pid, embedding) in enumerate(embedding_dict.items()):\n",
    "    # if i not in range(15, 20):\n",
    "    #     continue\n",
    "    plt.scatter(\n",
    "        embedding[:, 0], embedding[:, 1], s=7, label=pid, c=cm.hsv(i / len(embedding_dict))\n",
    "    )\n",
    "    for j in range(len(embedding)):\n",
    "        if embedding[j, 2] in start_frame_nums[::batch_num - 1]:\n",
    "            plt.text(embedding[j, 0], embedding[j, 1], int(embedding[j, 2]))\n",
    "\n",
    "# plt.colorbar(boundaries=np.arange(11)-0.5).set_ticks(pids)\n",
    "# plt.xlim((-65, 0))\n",
    "# plt.ylim((-50, 50))\n",
    "plt.legend(bbox_to_anchor=(1.01, 1), loc='upper left', borderaxespad=0)\n",
    "plt.show()"
   ]
  },
  {
   "cell_type": "code",
   "execution_count": 22,
   "id": "6dfc867e",
   "metadata": {},
   "outputs": [
    {
     "name": "stderr",
     "output_type": "stream",
     "text": [
      " 99%|█████████▉| 192/193 [02:17<00:00,  1.40it/s]\n"
     ]
    }
   ],
   "source": [
    "features_all = features.reshape(len(features), -1)\n",
    "um = umap.UMAP(n_neighbors=6, random_state=42)\n",
    "um.fit(features_all)\n",
    "\n",
    "embedding_dict = {}\n",
    "for data, feature in zip(batch, tqdm(features)):\n",
    "    frame_num = data[0]\n",
    "    pid = data[1]\n",
    "    if pid not in embedding_dict:\n",
    "        embedding_dict[pid] = np.empty((0, 3))\n",
    "    embedding = um.transform(feature.reshape(1, -1))\n",
    "    embedding = np.append(embedding, frame_num)\n",
    "    embedding_dict[pid] = np.append(embedding_dict[pid], [embedding], axis=0)"
   ]
  },
  {
   "cell_type": "code",
   "execution_count": 23,
   "id": "01833611",
   "metadata": {},
   "outputs": [
    {
     "name": "stderr",
     "output_type": "stream",
     "text": [
      "/tmp/ipykernel_2643578/2264242287.py:6: UserWarning: *c* argument looks like a single numeric RGB or RGBA sequence, which should be avoided as value-mapping will have precedence in case its length matches with *x* & *y*.  Please use the *color* keyword-argument or provide a 2D array with a single row if you intend to specify the same RGB or RGBA value for all points.\n",
      "  plt.scatter(\n"
     ]
    },
    {
     "data": {
      "image/png": "[encoded data removed]",
      "text/plain": [
       "<Figure size 500x500 with 1 Axes>"
      ]
     },
     "metadata": {},
     "output_type": "display_data"
    }
   ],
   "source": [
    "import matplotlib.cm as cm\n",
    "plt.figure(figsize=(5, 5))\n",
    "for i, (pid, embedding) in enumerate(embedding_dict.items()):\n",
    "    # if i not in range(15, 20):\n",
    "    #     continue\n",
    "    plt.scatter(\n",
    "        embedding[:, 0], embedding[:, 1], s=7, label=pid, c=cm.hsv(i / len(embedding_dict))\n",
    "    )\n",
    "    for j in range(len(embedding)):\n",
    "        if embedding[j, 2] in start_frame_nums[::batch_num - 1]:\n",
    "            plt.text(embedding[j, 0], embedding[j, 1], int(embedding[j, 2]))\n",
    "\n",
    "# plt.colorbar(boundaries=np.arange(11)-0.5).set_ticks(pids)\n",
    "# plt.xlim((-65, 0))\n",
    "# plt.ylim((-50, 50))\n",
    "plt.legend(bbox_to_anchor=(1.01, 1), loc='upper left', borderaxespad=0)\n",
    "plt.show()"
   ]
  },
  {
   "cell_type": "code",
   "execution_count": null,
   "id": "510baac7",
   "metadata": {},
   "outputs": [],
   "source": []
  }
 ],
 "metadata": {
  "kernelspec": {
   "display_name": "Python 3 (ipykernel)",
   "language": "python",
   "name": "python3"
  },
  "language_info": {
   "codemirror_mode": {
    "name": "ipython",
    "version": 3
   },
   "file_extension": ".py",
   "mimetype": "text/x-python",
   "name": "python",
   "nbconvert_exporter": "python",
   "pygments_lexer": "ipython3",
   "version": "3.8.13"
  }
 },
 "nbformat": 4,
 "nbformat_minor": 5
}

{
 "cells": [
  {
   "cell_type": "code",
   "execution_count": 1,
   "id": "ba99b03a-8a68-427d-ad2e-03f82c0fc9a0",
   "metadata": {},
   "outputs": [
    {
     "name": "stdout",
     "output_type": "stream",
     "text": [
      "/raid6/home/yokoyama/ahar\n"
     ]
    }
   ],
   "source": [
    "%cd /home/yokoyama/ahar\n",
    "from types import SimpleNamespace\n",
    "import sys\n",
    "import os\n",
    "from glob import glob\n",
    "\n",
    "import cv2\n",
    "import matplotlib.pyplot as plt\n",
    "import numpy as np\n",
    "import seaborn as sns\n",
    "from sklearn.manifold import TSNE\n",
    "import torch\n",
    "import torch.nn as nn\n",
    "import torch.nn.functional as F\n",
    "from tqdm.auto import tqdm\n",
    "from scipy.signal import find_peaks\n",
    "\n",
    "sys.path.append(\".\")\n",
    "from modules.individual import IndividualActivityRecognition, IndividualDataFormat, IndividualDataHandler\n",
    "from modules.utils.constants import Stages"
   ]
  },
  {
   "cell_type": "code",
   "execution_count": 2,
   "id": "d33a3ef3-7185-47c0-94a5-4e159df34c62",
   "metadata": {
    "scrolled": true,
    "tags": []
   },
   "outputs": [],
   "source": [
    "# set constants\n",
    "model_type = \"ganomaly\"\n",
    "train_data_dir = os.path.join(\"data\", \"dataset01\", \"train\")\n",
    "test_data_dir = os.path.join(\"data\", \"dataset01\", \"test\")\n",
    "data_types = [\"bbox\", \"local\"]\n",
    "seq_len = 300\n",
    "masking = False"
   ]
  },
  {
   "cell_type": "code",
   "execution_count": 3,
   "id": "c0b0f651-0a14-4023-8c48-94e6c68ccccd",
   "metadata": {},
   "outputs": [],
   "source": [
    "# load results\n",
    "def load_results(data_dir, model_type, data_type, masking, seq_len, data_keys):\n",
    "    video_num = os.path.basename(data_dir)\n",
    "    return IndividualDataHandler.load(data_dir, model_type, data_type, masking, seq_len, data_keys)\n",
    "\n",
    "data_keys = [IndividualDataFormat.loss_r, IndividualDataFormat.loss_d]\n",
    "train_results = {}\n",
    "test_results = {}\n",
    "for data_type in data_types:\n",
    "    data_dir = os.path.join(train_data_dir, \"10\")\n",
    "    train_results[data_type] = load_results(data_dir, model_type, data_type, masking, seq_len, data_keys)\n",
    "    data_dir = os.path.join(test_data_dir, \"03\")\n",
    "    test_results[data_type] = load_results(data_dir, model_type, data_type, masking, seq_len, data_keys)"
   ]
  },
  {
   "cell_type": "code",
   "execution_count": 4,
   "id": "2eef103c-fe28-4366-8873-e67cb2383716",
   "metadata": {},
   "outputs": [],
   "source": [
    "def get_results_ind(results):\n",
    "    ind_results = {}\n",
    "    for item in results:\n",
    "        pid = item[IndividualDataFormat.id]\n",
    "        if pid not in ind_results:\n",
    "            # initialize individual data\n",
    "            ind_results[pid] = {\n",
    "                key: [] for key in IndividualDataFormat.get_keys()\n",
    "                if key != IndividualDataFormat.id\n",
    "            }\n",
    "\n",
    "        # append individual data\n",
    "        for key, value in item.items():\n",
    "            if key != IndividualDataFormat.id:\n",
    "                ind_results[pid][key].append(item[key])\n",
    "    return ind_results"
   ]
  },
  {
   "cell_type": "code",
   "execution_count": 5,
   "id": "d6774b45-38fa-4580-b807-0bc1da9beab3",
   "metadata": {},
   "outputs": [],
   "source": [
    "train_results_ind = {}\n",
    "test_results_ind = {}\n",
    "for data_type in data_types:\n",
    "    train_results_ind[data_type] = get_results_ind(train_results[data_type])\n",
    "    test_results_ind[data_type] = get_results_ind(test_results[data_type])"
   ]
  },
  {
   "cell_type": "code",
   "execution_count": 6,
   "id": "d38e54c2-63f9-48fc-ba40-10544e8baecf",
   "metadata": {},
   "outputs": [
    {
     "name": "stdout",
     "output_type": "stream",
     "text": [
      "train\n",
      "max {'bbox': {'loss_resitudal': 0.06646689, 'loss_discrimination': 4.7471374e-05}, 'local': {'loss_resitudal': 0.061669692, 'loss_discrimination': 3.4132972e-07}}\n",
      "min {'bbox': {'loss_resitudal': 0, 'loss_discrimination': 0}, 'local': {'loss_resitudal': 0, 'loss_discrimination': 0}}\n",
      "test\n",
      "max {'bbox': {'loss_resitudal': 0.09098689, 'loss_discrimination': 7.309206e-05}, 'local': {'loss_resitudal': 0.20067677, 'loss_discrimination': 4.1228486e-07}}\n",
      "min {'bbox': {'loss_resitudal': 0, 'loss_discrimination': 0}, 'local': {'loss_resitudal': 0, 'loss_discrimination': 0}}\n"
     ]
    }
   ],
   "source": [
    "def calc_minmax(results):\n",
    "    maxs = {data_type: {IndividualDataFormat.loss_r: 0, IndividualDataFormat.loss_d: 0} for data_type in data_types}\n",
    "    mins = {data_type: {IndividualDataFormat.loss_r: 0, IndividualDataFormat.loss_d: 0} for data_type in data_types}\n",
    "    for data_type, ind_results in results.items(): \n",
    "        for ind_result in ind_results.values():\n",
    "            for key in [IndividualDataFormat.loss_r, IndividualDataFormat.loss_d]:\n",
    "                val = ind_result[key]\n",
    "                maxs[data_type][key] = max(maxs[data_type][key], max(val))\n",
    "                mins[data_type][key] = min(mins[data_type][key], min(val))\n",
    "    print(\"max\", maxs)\n",
    "    print(\"min\", mins)\n",
    "    \n",
    "print(\"train\")\n",
    "calc_minmax(train_results_ind)\n",
    "print(\"test\")\n",
    "calc_minmax(test_results_ind)"
   ]
  },
  {
   "cell_type": "markdown",
   "id": "d5981985-bda3-4a0e-971a-bd7cbf3c8444",
   "metadata": {},
   "source": [
    "# Train Data"
   ]
  },
  {
   "cell_type": "code",
   "execution_count": 25,
   "id": "9eb43f64-ed87-4ea0-b25a-9a5703192375",
   "metadata": {},
   "outputs": [
    {
     "data": {
      "text/plain": [
       "(array([1476, 1478, 1480, 1487, 1489, 1497, 1499, 3580, 3583, 3589, 3592,\n",
       "        3594, 3597, 3621, 3636, 3646, 3651, 3653, 3656, 3659, 3663, 3666,\n",
       "        3669]),\n",
       " {'peak_heights': array([0.0663812 , 0.06646689, 0.06633593, 0.0655917 , 0.06545711,\n",
       "         0.0644491 , 0.06439633, 0.05969398, 0.0593835 , 0.05729957,\n",
       "         0.05655169, 0.05640905, 0.05645631, 0.05006177, 0.05017985,\n",
       "         0.05053177, 0.05118456, 0.0514403 , 0.05136222, 0.0507592 ,\n",
       "         0.05095532, 0.05082334, 0.05006258])})"
      ]
     },
     "execution_count": 25,
     "metadata": {},
     "output_type": "execute_result"
    }
   ],
   "source": [
    "peaks = find_peaks(train_results_ind[\"bbox\"][\"272\"][IndividualDataFormat.loss_r], height=0.05)\n",
    "peaks\n",
    "# max peaks 1476, 3653"
   ]
  },
  {
   "cell_type": "code",
   "execution_count": 27,
   "id": "b61947a2-6c5a-4c73-a0a0-22ab8babbc44",
   "metadata": {},
   "outputs": [
    {
     "data": {
      "text/plain": [
       "1776"
      ]
     },
     "execution_count": 27,
     "metadata": {},
     "output_type": "execute_result"
    }
   ],
   "source": [
    "frame_nums = train_results_ind[\"bbox\"][\"272\"][IndividualDataFormat.frame_num]\n",
    "frame_nums[1476]"
   ]
  },
  {
   "cell_type": "code",
   "execution_count": 47,
   "id": "8f18ee18-053e-4b58-bae9-c1e8e64b2fcd",
   "metadata": {},
   "outputs": [
    {
     "data": {
      "text/plain": [
       "3953"
      ]
     },
     "execution_count": 47,
     "metadata": {},
     "output_type": "execute_result"
    }
   ],
   "source": [
    "frame_nums = train_results_ind[\"bbox\"][\"272\"][IndividualDataFormat.frame_num]\n",
    "frame_nums[3653]"
   ]
  },
  {
   "cell_type": "markdown",
   "id": "82419b3f-c5a9-48a6-913e-2c01faac1118",
   "metadata": {
    "tags": []
   },
   "source": [
    "# Test Data"
   ]
  },
  {
   "cell_type": "code",
   "execution_count": 43,
   "id": "daec4db2-eccb-4ade-bc8a-0182202479f5",
   "metadata": {},
   "outputs": [
    {
     "data": {
      "text/plain": [
       "(array([572, 575, 577, 624, 628, 642, 644, 647, 649, 653, 658, 668]),\n",
       " {'peak_heights': array([0.08133359, 0.08125252, 0.08139763, 0.08130525, 0.08106861,\n",
       "         0.0884316 , 0.08869907, 0.08786689, 0.08842146, 0.09056663,\n",
       "         0.09098689, 0.08607876])})"
      ]
     },
     "execution_count": 43,
     "metadata": {},
     "output_type": "execute_result"
    }
   ],
   "source": [
    "peaks = find_peaks(test_results_ind[\"bbox\"][\"56\"][IndividualDataFormat.loss_r], height=0.08)\n",
    "peaks"
   ]
  },
  {
   "cell_type": "code",
   "execution_count": 44,
   "id": "37c23e29-1a11-49cc-b1cd-b335bdb99898",
   "metadata": {},
   "outputs": [
    {
     "data": {
      "text/plain": [
       "1399"
      ]
     },
     "execution_count": 44,
     "metadata": {},
     "output_type": "execute_result"
    }
   ],
   "source": [
    "frame_nums = test_results_ind[\"bbox\"][\"56\"][IndividualDataFormat.frame_num]\n",
    "frame_nums[658]"
   ]
  },
  {
   "cell_type": "code",
   "execution_count": 40,
   "id": "5d32bbff-adde-45f2-81df-1e7b34a9631e",
   "metadata": {},
   "outputs": [
    {
     "data": {
      "text/plain": [
       "(array([296, 931]),\n",
       " {'peak_heights': array([0.20067677, 0.09856948]),\n",
       "  'prominences': array([0.15550243, 0.03830859]),\n",
       "  'left_bases': array([  0, 679]),\n",
       "  'right_bases': array([ 679, 1215])})"
      ]
     },
     "execution_count": 40,
     "metadata": {},
     "output_type": "execute_result"
    }
   ],
   "source": [
    "peaks = find_peaks(test_results_ind[\"local\"][\"56\"][IndividualDataFormat.loss_r], height=0.08, prominence=0.02)\n",
    "peaks"
   ]
  },
  {
   "cell_type": "code",
   "execution_count": 39,
   "id": "abe13a14-8f7f-4094-a8af-8457d7f48bdd",
   "metadata": {},
   "outputs": [
    {
     "data": {
      "text/plain": [
       "array([1037, 2010])"
      ]
     },
     "execution_count": 39,
     "metadata": {},
     "output_type": "execute_result"
    }
   ],
   "source": [
    "np.array(frame_nums)[indices]"
   ]
  },
  {
   "cell_type": "code",
   "execution_count": null,
   "id": "cccaac67-6603-4e91-9a1a-420ba5a5871b",
   "metadata": {},
   "outputs": [],
   "source": []
  }
 ],
 "metadata": {
  "kernelspec": {
   "display_name": "Python 3 (ipykernel)",
   "language": "python",
   "name": "python3"
  },
  "language_info": {
   "codemirror_mode": {
    "name": "ipython",
    "version": 3
   },
   "file_extension": ".py",
   "mimetype": "text/x-python",
   "name": "python",
   "nbconvert_exporter": "python",
   "pygments_lexer": "ipython3",
   "version": "3.8.13 (default, Sep 29 2022, 15:03:17) \n[GCC 9.4.0]"
  },
  "vscode": {
   "interpreter": {
    "hash": "dccecc35c586f6903b2d2c59f9106452a2022aa6cfdd947684bb60d7615b35c4"
   }
  }
 },
 "nbformat": 4,
 "nbformat_minor": 5
}

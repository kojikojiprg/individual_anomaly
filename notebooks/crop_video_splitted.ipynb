{
 "cells": [
  {
   "cell_type": "code",
   "execution_count": 1,
   "id": "21e5ced1-0305-4ec3-8be9-97b9a4baa3d3",
   "metadata": {},
   "outputs": [
    {
     "name": "stdout",
     "output_type": "stream",
     "text": [
      "/raid6/surgery-video\n"
     ]
    }
   ],
   "source": [
    "%cd /raid6/home/yokyoama/ahar\n",
    "import cv2\n",
    "import glob\n",
    "import os"
   ]
  },
  {
   "cell_type": "code",
   "execution_count": 2,
   "id": "a1d6d304-58f9-4755-97a5-51e94e61c464",
   "metadata": {
    "tags": []
   },
   "outputs": [],
   "source": [
    "video_set = {\n",
    "    \"train\": [\n",
    "        (\"02\", \"001\", \"04\", \"30000\"),\n",
    "        (\"02\", \"001\", \"11\", \"25000\"),\n",
    "        (\"02\", \"001\", \"12\", \"19800\"),\n",
    "        (\"02\", \"001\", \"13\", \"34000\"),\n",
    "        (\"07\", \"001\", \"08\", \"19800\"),\n",
    "        (\"07\", \"001\", \"09\", \"20600\"),\n",
    "        (\"07\", \"001\", \"10\", \"19500\"),\n",
    "        (\"07\", \"001\", \"14\", \"19000\"),\n",
    "        (\"08\", \"001\", \"07\", \"39500\"),\n",
    "        (\"08\", \"001\", \"10\", \"35000\"),\n",
    "        (\"08\", \"001\", \"12\", \"20500\"),\n",
    "        (\"08\", \"002\", \"04\", \"22500\"),\n",
    "        (\"08\", \"002\", \"10\", \"20000\"),\n",
    "        (\"08\", \"002\", \"14\", \"08000\"),\n",
    "        (\"09\", \"001\", \"04\", \"42000\"),\n",
    "        (\"09\", \"001\", \"06\", \"17000\"),\n",
    "        (\"09\", \"001\", \"08\", \"05000\"),\n",
    "        (\"09\", \"002\", \"03\", \"16000\"),\n",
    "        (\"09\", \"002\", \"04\", \"47000\"),\n",
    "        (\"09\", \"002\", \"09\", \"12900\"),\n",
    "    ],\n",
    "    \"test\": [\n",
    "        (\"02\", \"001\", \"02\", \"46000\"),  # prepairing\n",
    "        (\"02\", \"001\", \"10\", \"11200\"),  # monitor\n",
    "        (\"02\", \"001\", \"11\", \"17000\"),  # grobe\n",
    "        (\"02\", \"001\", \"14\", \"29100\"),  # bed\n",
    "        (\"07\", \"001\", \"02\", \"39600\"),  # prepairing\n",
    "        (\"07\", \"001\", \"11\", \"27900\"),  # surgeon moves under bed\n",
    "        (\"07\", \"001\", \"12\", \"48600\"),  # grobe\n",
    "        (\"07\", \"001\", \"15\", \"12600\"),  # finish\n",
    "        (\"08\", \"001\", \"03\", \"00900\"),  # prepairing\n",
    "        (\"08\", \"001\", \"06\", \"00000\"),  # suspending\n",
    "        (\"08\", \"001\", \"06\", \"35100\"),  # suspending\n",
    "        (\"08\", \"002\", \"09\", \"03000\"),  # suspending\n",
    "        (\"08\", \"002\", \"19\", \"48600\"),  # finish\n",
    "        (\"08\", \"002\", \"20\", \"32400\"),  # bed\n",
    "        (\"09\", \"001\", \"01\", \"22500\"),  # prepairing\n",
    "        (\"09\", \"001\", \"12\", \"44100\"),  # grobe\n",
    "        (\"09\", \"001\", \"16\", \"00900\"),  # finish\n",
    "        (\"09\", \"002\", \"01\", \"45000\"),  # prepairing\n",
    "        (\"09\", \"002\", \"09\", \"33300\"),  # finish\n",
    "        (\"09\", \"002\", \"10\", \"33300\"),  # bed\n",
    "    ]\n",
    "}\n"
   ]
  },
  {
   "cell_type": "code",
   "execution_count": 3,
   "id": "8ecc7655-b49f-4502-b2c2-87b429229635",
   "metadata": {
    "tags": []
   },
   "outputs": [],
   "source": [
    "def write_video(video_path, out_path, start_frame, total_frame=5400):\n",
    "    capture = cv2.VideoCapture(video_path)\n",
    "    fps = capture.get(cv2.CAP_PROP_FPS)\n",
    "    # fps = 30\n",
    "    height = capture.get(cv2.CAP_PROP_FRAME_HEIGHT)\n",
    "    width = capture.get(cv2.CAP_PROP_FRAME_WIDTH)\n",
    "    fourcc = cv2.VideoWriter_fourcc('m','p','4','v')\n",
    "    writer = cv2.VideoWriter(out_path, int(fourcc), fps, (int(width), int(height)))\n",
    "\n",
    "    # move capture frame\n",
    "    capture.set(cv2.CAP_PROP_POS_FRAMES, start_frame)\n",
    "\n",
    "    for _ in range(total_frame):\n",
    "        # read next\n",
    "        ret, frame = capture.read()\n",
    "        if ret:\n",
    "            writer.write(frame)\n",
    "\n",
    "    capture.release()\n",
    "    writer.release()"
   ]
  },
  {
   "cell_type": "code",
   "execution_count": 4,
   "id": "dd059e64-af7d-4d4a-bf6b-db42b89c4d6e",
   "metadata": {},
   "outputs": [
    {
     "name": "stdout",
     "output_type": "stream",
     "text": [
      "input video path  02/001/02.mp4\n",
      "writing  dataset01/test/01.mp4\n",
      "input video path  02/001/10.mp4\n",
      "writing  dataset01/test/02.mp4\n",
      "input video path  02/001/11.mp4\n",
      "writing  dataset01/test/03.mp4\n",
      "input video path  02/001/14.mp4\n",
      "writing  dataset01/test/04.mp4\n",
      "input video path  07/001/02.mp4\n",
      "writing  dataset01/test/05.mp4\n",
      "input video path  07/001/11.mp4\n",
      "writing  dataset01/test/06.mp4\n",
      "input video path  07/001/12.mp4\n",
      "writing  dataset01/test/07.mp4\n",
      "input video path  07/001/15.mp4\n",
      "writing  dataset01/test/08.mp4\n",
      "input video path  08/001/03.mp4\n",
      "writing  dataset01/test/09.mp4\n",
      "input video path  08/001/06.mp4\n",
      "writing  dataset01/test/10.mp4\n",
      "input video path  08/001/06.mp4\n",
      "writing  dataset01/test/11.mp4\n",
      "input video path  08/002/09.mp4\n",
      "writing  dataset01/test/12.mp4\n",
      "input video path  08/002/19.mp4\n",
      "writing  dataset01/test/13.mp4\n",
      "input video path  08/002/20.mp4\n",
      "writing  dataset01/test/14.mp4\n",
      "input video path  09/001/01.mp4\n",
      "writing  dataset01/test/15.mp4\n",
      "input video path  09/001/12.mp4\n",
      "writing  dataset01/test/16.mp4\n",
      "input video path  09/001/16.mp4\n",
      "writing  dataset01/test/17.mp4\n",
      "input video path  09/002/01.mp4\n",
      "writing  dataset01/test/18.mp4\n",
      "input video path  09/002/09.mp4\n",
      "writing  dataset01/test/19.mp4\n",
      "input video path  09/002/10.mp4\n",
      "writing  dataset01/test/20.mp4\n"
     ]
    }
   ],
   "source": [
    "stage = \"test\"\n",
    "for setting in video_set[stage]:\n",
    "    room_num = setting[0]\n",
    "    surgery_num = setting[1]\n",
    "    video_num = setting[2]\n",
    "    start_frame = int(setting[3])\n",
    "\n",
    "    video_name = f'{video_num}.mp4'\n",
    "    video_path = os.path.join(\"/raid6/surgery-video\", room_num, surgery_num, video_name)\n",
    "\n",
    "    out_dir = os.path.join('data', 'dataset02', stage)\n",
    "    os.makedirs(out_dir, exist_ok=True)\n",
    "\n",
    "    print(\"input video path \", video_path)\n",
    "    files = glob.glob(out_dir + '/*')\n",
    "    if len(files) > 0:\n",
    "        last_file_num = int(files[-1].split(\"/\")[-1].replace(\".mp4\", \"\"))\n",
    "    else:\n",
    "        last_file_num = 0\n",
    "    file_num = f\"{last_file_num + 1:02d}\"\n",
    "    out_path = os.path.join(\n",
    "        out_dir, file_num, (f'{file_num}.mp4')\n",
    "    )\n",
    "\n",
    "    print(\"writing \", out_path)\n",
    "    write_video(video_path, out_path, start_frame)"
   ]
  },
  {
   "cell_type": "code",
   "execution_count": null,
   "id": "668539e2-2208-44f5-a0a8-09b5436494d0",
   "metadata": {},
   "outputs": [],
   "source": []
  }
 ],
 "metadata": {
  "kernelspec": {
   "display_name": "Python 3.8.13 ('.venv': venv)",
   "language": "python",
   "name": "python3"
  },
  "language_info": {
   "codemirror_mode": {
    "name": "ipython",
    "version": 3
   },
   "file_extension": ".py",
   "mimetype": "text/x-python",
   "name": "python",
   "nbconvert_exporter": "python",
   "pygments_lexer": "ipython3",
   "version": "3.8.13"
  },
  "vscode": {
   "interpreter": {
    "hash": "dccecc35c586f6903b2d2c59f9106452a2022aa6cfdd947684bb60d7615b35c4"
   }
  }
 },
 "nbformat": 4,
 "nbformat_minor": 5
}
